{
 "cells": [
  {
   "cell_type": "raw",
   "metadata": {},
   "source": [
    "#   1. read CSV files\n",
    "#   2. store input variables to x (x is a 2D array: each row containing a data, each column an attribute)\n",
    "#   3. store output varibles to y\n",
    "#   4. declare lost function\n",
    "#   5. write iteration code\n",
    "#   6. automate process for different number of iterations\n",
    "#   7. generte prediction on test dataset"
   ]
  },
  {
   "cell_type": "code",
   "execution_count": 1,
   "metadata": {},
   "outputs": [],
   "source": [
    "import numpy as np"
   ]
  },
  {
   "cell_type": "code",
   "execution_count": 2,
   "metadata": {},
   "outputs": [],
   "source": [
    "x_train = np.genfromtxt('train.csv', delimiter=',')"
   ]
  },
  {
   "cell_type": "code",
   "execution_count": 3,
   "metadata": {},
   "outputs": [],
   "source": [
    "x_test = np.genfromtxt('test.csv', delimiter=',')"
   ]
  },
  {
   "cell_type": "code",
   "execution_count": 4,
   "metadata": {},
   "outputs": [],
   "source": [
    "x_test = np.delete(x_test, 0, 0)"
   ]
  },
  {
   "cell_type": "code",
   "execution_count": 5,
   "metadata": {},
   "outputs": [],
   "source": [
    "x_test = np.delete(x_test, 0, 1)"
   ]
  },
  {
   "cell_type": "code",
   "execution_count": 6,
   "metadata": {},
   "outputs": [
    {
     "name": "stdout",
     "output_type": "stream",
     "text": [
      "8\n"
     ]
    }
   ],
   "source": [
    "print((len(x_test[0])))"
   ]
  },
  {
   "cell_type": "code",
   "execution_count": 7,
   "metadata": {},
   "outputs": [],
   "source": [
    "# remove attribute row from data, ID column from data\n",
    "x_train = np.delete(x_train, 0, 0)\n",
    "x_train = np.delete(x_train, 0, 1)"
   ]
  },
  {
   "cell_type": "code",
   "execution_count": 8,
   "metadata": {},
   "outputs": [],
   "source": [
    "# normalize data\n",
    "row_sums = x_train.sum(axis=1)\n",
    "x_train = x_train / row_sums[:, np.newaxis]"
   ]
  },
  {
   "cell_type": "code",
   "execution_count": 9,
   "metadata": {},
   "outputs": [],
   "source": [
    "nbOfData = len(x_train)\n",
    "nbOfFeatures = len(x_train[0]) -1"
   ]
  },
  {
   "cell_type": "code",
   "execution_count": 10,
   "metadata": {},
   "outputs": [
    {
     "name": "stdout",
     "output_type": "stream",
     "text": [
      "824\n",
      "8\n"
     ]
    }
   ],
   "source": [
    "print(nbOfData)\n",
    "print(nbOfFeatures)"
   ]
  },
  {
   "cell_type": "raw",
   "metadata": {},
   "source": [
    "# initialize arrays"
   ]
  },
  {
   "cell_type": "code",
   "execution_count": 11,
   "metadata": {},
   "outputs": [],
   "source": [
    "y = np.zeros(nbOfData)\n",
    "w = np.ones(nbOfFeatures)"
   ]
  },
  {
   "cell_type": "code",
   "execution_count": 12,
   "metadata": {},
   "outputs": [
    {
     "name": "stdout",
     "output_type": "stream",
     "text": [
      "824\n"
     ]
    }
   ],
   "source": [
    "print(len(y))"
   ]
  },
  {
   "cell_type": "code",
   "execution_count": 13,
   "metadata": {},
   "outputs": [
    {
     "name": "stdout",
     "output_type": "stream",
     "text": [
      "9\n"
     ]
    }
   ],
   "source": [
    "print(len(x_train[0]))"
   ]
  },
  {
   "cell_type": "raw",
   "metadata": {},
   "source": [
    "# store data in array"
   ]
  },
  {
   "cell_type": "code",
   "execution_count": 14,
   "metadata": {},
   "outputs": [],
   "source": [
    "y = x_train[:, 8]"
   ]
  },
  {
   "cell_type": "code",
   "execution_count": 15,
   "metadata": {},
   "outputs": [],
   "source": [
    "x_train = np.delete(x_train, 8, 1)"
   ]
  },
  {
   "cell_type": "code",
   "execution_count": 16,
   "metadata": {},
   "outputs": [],
   "source": [
    "ITER_TIMES = 5000000\n",
    "LEARNIN_RATE = 0.001"
   ]
  },
  {
   "cell_type": "code",
   "execution_count": 17,
   "metadata": {},
   "outputs": [
    {
     "name": "stdout",
     "output_type": "stream",
     "text": [
      "ITER 4999999 , loss = 0.014701415304516179\n"
     ]
    }
   ],
   "source": [
    "#for ITER_TIMES in range(600000,2000000,100000):\n",
    "for i in range(ITER_TIMES):\n",
    "    y_pred = np.matmul(x_train, w)\n",
    "\n",
    "    targetDiff = np.subtract(y, y_pred)\n",
    "\n",
    "    loss = (targetDiff)**2\n",
    "\n",
    "    gradient = np.multiply(np.matmul(np.transpose(x_train), targetDiff), -2)\n",
    "\n",
    "    w -= LEARNIN_RATE * gradient\n",
    "print(\"ITER \" + str(i) + \" , loss = \" + str(np.sum(loss)))"
   ]
  },
  {
   "cell_type": "raw",
   "metadata": {},
   "source": [
    "loss = 0.014701415304516179"
   ]
  },
  {
   "cell_type": "raw",
   "metadata": {},
   "source": [
    "for ITER_TIMES in range(5000000, 10000000, 1000000):\n",
    "    for i in range(ITER_TIMES):\n",
    "        y_pred = np.matmul(x_train, w)\n",
    "\n",
    "        targetDiff = np.subtract(y, y_pred)\n",
    "\n",
    "        loss = (targetDiff)**2\n",
    "\n",
    "        gradient = np.multiply(np.matmul(np.transpose(x_train), targetDiff), -2)\n",
    "\n",
    "        w -= LEARNIN_RATE * gradient\n",
    "    print(\"ITER \" + str(i) + \" , loss = \" + str(np.sum(loss)))"
   ]
  },
  {
   "cell_type": "code",
   "execution_count": 18,
   "metadata": {},
   "outputs": [],
   "source": [
    "y_test = np.matmul(x_test, w)"
   ]
  },
  {
   "cell_type": "code",
   "execution_count": 19,
   "metadata": {},
   "outputs": [],
   "source": [
    "# insert index column\n",
    "y_test = np.expand_dims(y_test, axis = 1)\n",
    "y_test = np.insert(y_test, obj=0, values=np.arange(start=0, stop=len(y_test), dtype='int32'), axis=1)"
   ]
  },
  {
   "cell_type": "code",
   "execution_count": 20,
   "metadata": {},
   "outputs": [],
   "source": [
    "np.savetxt(\"trained_weights.csv\", y_test, fmt=[\"%d\", \"%f\"], delimiter=\",\", header=\"ID,csMPa\", comments='')"
   ]
  }
 ],
 "metadata": {
  "kernelspec": {
   "display_name": "Python 3",
   "language": "python",
   "name": "python3"
  },
  "language_info": {
   "codemirror_mode": {
    "name": "ipython",
    "version": 3
   },
   "file_extension": ".py",
   "mimetype": "text/x-python",
   "name": "python",
   "nbconvert_exporter": "python",
   "pygments_lexer": "ipython3",
   "version": "3.5.2"
  }
 },
 "nbformat": 4,
 "nbformat_minor": 2
}
