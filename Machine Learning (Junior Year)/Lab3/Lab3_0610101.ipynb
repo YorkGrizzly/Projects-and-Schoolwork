{
 "cells": [
  {
   "cell_type": "code",
   "execution_count": 1,
   "metadata": {
    "scrolled": true
   },
   "outputs": [],
   "source": [
    "import numpy as np\n",
    "import matplotlib.pyplot as plt\n",
    "import pandas as pd\n",
    "import model"
   ]
  },
  {
   "cell_type": "code",
   "execution_count": 2,
   "metadata": {},
   "outputs": [],
   "source": [
    "np.random.seed(0)"
   ]
  },
  {
   "cell_type": "code",
   "execution_count": 3,
   "metadata": {},
   "outputs": [],
   "source": [
    "def shuffle_data(x_data, y_data): # shuffles dataset x and y\n",
    "    y_data = y_data[np.newaxis, :] # convert label array to 2d\n",
    "    dataset = np.concatenate((x_data, y_data.T), axis=1) # append labels to data\n",
    "    np.random.shuffle(dataset) # in-place shuffle dataset\n",
    "    # peel labels from data\n",
    "    y_data = dataset[: , -1:]\n",
    "    y_data = y_data.flatten() # turn back into 1D array\n",
    "    x_data = dataset[: , :-1]\n",
    "    y_data = y_data.astype(int)\n",
    "    return x_data, y_data"
   ]
  },
  {
   "cell_type": "code",
   "execution_count": 4,
   "metadata": {},
   "outputs": [],
   "source": [
    "def one_hot(original_label):\n",
    "    data_size = len(original_label)\n",
    "    label_temp = np.zeros((data_size, 47), dtype = np.float32)\n",
    "    for i in range(data_size):\n",
    "        label_temp[i][original_label[i]] = 1\n",
    "    onehot_label = np.copy(label_temp)\n",
    "    return onehot_label"
   ]
  },
  {
   "cell_type": "code",
   "execution_count": 5,
   "metadata": {},
   "outputs": [],
   "source": [
    "def plotGraph(x1, y1, x2, y2, x_axis=\"epoch\", y_axis=\"Accuracy\", label1=\"train\", label2=\"validation\"):\n",
    "\n",
    "    # plotting the line 1 points  \n",
    "    plt.plot(x1, y1, label = label1) \n",
    "    # plotting the line 2 points  \n",
    "    plt.plot(x2, y2, label = label2) \n",
    "    \n",
    "    # naming the x axis \n",
    "    plt.xlabel(x_axis) \n",
    "    # naming the y axis \n",
    "    plt.ylabel(y_axis) \n",
    "    # giving a title to my graph \n",
    "    plt.title(y_axis + \" - \" + x_axis) \n",
    "    \n",
    "    # show a legend on the plot \n",
    "    plt.legend() \n",
    "    # function to show the plot \n",
    "    plt.show() "
   ]
  },
  {
   "cell_type": "markdown",
   "metadata": {},
   "source": [
    "# data loader"
   ]
  },
  {
   "cell_type": "code",
   "execution_count": 6,
   "metadata": {},
   "outputs": [],
   "source": [
    "# Training .csv  --> first column is label , 1~748 is image value , image size =28*28\n",
    "# test .csv  --> 0~747 is image value , image size =28*28\n",
    "#submit your prediction to kaggle"
   ]
  },
  {
   "cell_type": "code",
   "execution_count": 7,
   "metadata": {},
   "outputs": [],
   "source": [
    "train_load=np.loadtxt(\"./data/train.csv\",dtype=np.int,delimiter=',')\n",
    "test_data=np.loadtxt(\"./data/test_nolabel.csv\",dtype=np.int,delimiter=',')\n",
    "\n",
    "\n",
    "train_data=train_load[:,1:]\n",
    "train_label=train_load[:,0]\n"
   ]
  },
  {
   "cell_type": "code",
   "execution_count": 8,
   "metadata": {},
   "outputs": [
    {
     "name": "stdout",
     "output_type": "stream",
     "text": [
      "shape of train_data: (112800, 784)\n",
      "shape of train_label: (112800,)\n",
      "shape of test_data: (18800, 784)\n"
     ]
    }
   ],
   "source": [
    "print(\"shape of train_data: {}\".format(train_data.shape))\n",
    "print(\"shape of train_label: {}\".format(train_label.shape))\n",
    "print(\"shape of test_data: {}\".format(test_data.shape))\n"
   ]
  },
  {
   "cell_type": "code",
   "execution_count": 9,
   "metadata": {},
   "outputs": [
    {
     "name": "stdout",
     "output_type": "stream",
     "text": [
      "train_image_num  is : 112800\n",
      "test_image_num   is : 18800\n"
     ]
    }
   ],
   "source": [
    "train_image_num = train_data.shape[0]\n",
    "test_image_num = test_data.shape[0]\n",
    "print(\"train_image_num  is : {}\".format(train_image_num))\n",
    "print(\"test_image_num   is : {}\".format(test_image_num))"
   ]
  },
  {
   "cell_type": "markdown",
   "metadata": {},
   "source": [
    "## Show the data"
   ]
  },
  {
   "cell_type": "code",
   "execution_count": 10,
   "metadata": {},
   "outputs": [],
   "source": [
    "test_data_show = test_data.reshape(test_image_num, 28,28)"
   ]
  },
  {
   "cell_type": "code",
   "execution_count": 11,
   "metadata": {},
   "outputs": [
    {
     "data": {
      "text/plain": [
       "(18800, 28, 28)"
      ]
     },
     "execution_count": 11,
     "metadata": {},
     "output_type": "execute_result"
    }
   ],
   "source": [
    "test_data_show.shape"
   ]
  },
  {
   "cell_type": "markdown",
   "metadata": {
    "scrolled": true
   },
   "source": [
    "plt.figure(figsize=(20, 20))\n",
    "for index in range(100):\n",
    "    image = test_data_show[index]\n",
    "    plt.subplot(10, 10, index+1)\n",
    "    plt.imshow(image)\n",
    "plt.show()"
   ]
  },
  {
   "cell_type": "markdown",
   "metadata": {},
   "source": [
    "#set validation dataset"
   ]
  },
  {
   "cell_type": "code",
   "execution_count": 12,
   "metadata": {},
   "outputs": [],
   "source": [
    "val_image_num=8000"
   ]
  },
  {
   "cell_type": "markdown",
   "metadata": {},
   "source": [
    "# Convert the training  labels to one hot "
   ]
  },
  {
   "cell_type": "code",
   "execution_count": null,
   "metadata": {},
   "outputs": [],
   "source": []
  },
  {
   "cell_type": "markdown",
   "metadata": {},
   "source": [
    "label_temp = np.zeros((train_image_num, 47), dtype = np.float32)\n",
    "for i in range(train_image_num):\n",
    "    label_temp[i][train_label[i]] = 1\n",
    "train_label_onehot = np.copy(label_temp)\n",
    "print(\"One-hot training labels shape:\",train_label_onehot.shape)"
   ]
  },
  {
   "cell_type": "markdown",
   "metadata": {},
   "source": [
    "## Hyperparameters"
   ]
  },
  {
   "cell_type": "code",
   "execution_count": 13,
   "metadata": {},
   "outputs": [],
   "source": [
    "EPOCH = 15\n",
    "# Batch_size = 400 #200\n",
    "Batch_size = 200\n",
    "val_Batch_size = int(val_image_num / 2)\n",
    "Learning_rate = 1e-3\n",
    "# Learning_rate = 3e-5 #10^-5"
   ]
  },
  {
   "cell_type": "code",
   "execution_count": null,
   "metadata": {},
   "outputs": [],
   "source": []
  },
  {
   "cell_type": "markdown",
   "metadata": {},
   "source": [
    "## Training"
   ]
  },
  {
   "cell_type": "code",
   "execution_count": 14,
   "metadata": {},
   "outputs": [
    {
     "name": "stdout",
     "output_type": "stream",
     "text": [
      "Epoch:  1 |Train Loss:  0.8560 |Train Acc:73.2586 |Val Loss:  0.5777 |Val Acc:80.8250\n",
      "Epoch:  2 |Train Loss:  0.4656 |Train Acc:84.0038 |Val Loss:  0.4959 |Val Acc:83.2875\n",
      "Epoch:  3 |Train Loss:  0.3836 |Train Acc:86.4828 |Val Loss:  0.4687 |Val Acc:84.2125\n",
      "Epoch:  4 |Train Loss:  0.3373 |Train Acc:87.7748 |Val Loss:  0.4591 |Val Acc:84.7250\n",
      "Epoch:  5 |Train Loss:  0.3020 |Train Acc:88.9905 |Val Loss:  0.4519 |Val Acc:84.8625\n",
      "Epoch:  6 |Train Loss:  0.2751 |Train Acc:89.7300 |Val Loss:  0.4500 |Val Acc:85.0500\n",
      "Epoch:  7 |Train Loss:  0.2519 |Train Acc:90.4571 |Val Loss:  0.4580 |Val Acc:84.9750\n",
      "Epoch:  8 |Train Loss:  0.2319 |Train Acc:91.1164 |Val Loss:  0.4746 |Val Acc:85.2250\n",
      "Epoch:  9 |Train Loss:  0.2157 |Train Acc:91.5983 |Val Loss:  0.4847 |Val Acc:85.1625\n",
      "Epoch: 10 |Train Loss:  0.2003 |Train Acc:92.1260 |Val Loss:  0.4850 |Val Acc:84.8875\n",
      "Epoch: 11 |Train Loss:  0.1876 |Train Acc:92.4990 |Val Loss:  0.4976 |Val Acc:85.3875\n",
      "Epoch: 12 |Train Loss:  0.1754 |Train Acc:92.9475 |Val Loss:  0.5400 |Val Acc:84.7375\n",
      "Epoch: 13 |Train Loss:  0.1663 |Train Acc:93.2338 |Val Loss:  0.5485 |Val Acc:84.5000\n",
      "Epoch: 14 |Train Loss:  0.1557 |Train Acc:93.6803 |Val Loss:  0.5611 |Val Acc:84.7875\n",
      "Epoch: 15 |Train Loss:  0.1485 |Train Acc:93.8845 |Val Loss:  0.5819 |Val Acc:84.8250\n"
     ]
    }
   ],
   "source": [
    "net = model.Network()\n",
    "\n",
    "train_batch_num = (train_image_num  -  val_image_num  )//Batch_size\n",
    "val_batch_num = (val_image_num)//val_Batch_size\n",
    "\n",
    "\n",
    "# store for graph plot\n",
    "epoch_cnt = []\n",
    "trainAcc_curve = []\n",
    "valAcc_curve = []\n",
    "trainLoss_curve = []\n",
    "valLoss_curve = []\n",
    "\n",
    "# shuffle once\n",
    "train_data, train_label = shuffle_data(train_data, train_label)\n",
    "# separate train and validation sets\n",
    "val_data = train_data[:val_image_num]\n",
    "train_data = train_data[val_image_num:]\n",
    "val_label = train_label[:val_image_num]\n",
    "train_label = train_label[val_image_num:]\n",
    "\n",
    "\n",
    "# one-hot validation labels\n",
    "val_label_onehot = one_hot(val_label)\n",
    "\n",
    "for epoch in range(1, EPOCH+1):\n",
    "    # shuffle data\n",
    "    train_data, train_label = shuffle_data(train_data, train_label)\n",
    "    # convert one-hot\n",
    "    train_label_onehot = one_hot(train_label)\n",
    "    \n",
    "    \n",
    "    train_hit = 0\n",
    "    val_hit = 0\n",
    "    total_train_loss = 0\n",
    "    total_val_loss = 0\n",
    "    for it in range(train_batch_num): # train\n",
    "        pred, train_loss = net.forward(train_data[it*Batch_size:(it+1)*Batch_size], train_label_onehot[it*Batch_size:(it+1)*Batch_size])\n",
    "        pred_index = np.argmax(pred, axis=1)\n",
    "        train_hit += (pred_index==train_label[it*Batch_size:(it+1)*Batch_size]).sum()\n",
    "        total_train_loss += train_loss\n",
    "        \n",
    "        net.backward()\n",
    "        net.update(Learning_rate, optimizer=\"adam\", curr_epoch=epoch)    \n",
    "    \n",
    "    for titt in range(val_batch_num): # validate\n",
    "        #tit=train_batch_num+titt\n",
    "        #pred, val_loss = net.forward(train_data[tit*Batch_size:(tit+1)*Batch_size], train_label_onehot[tit*Batch_size:(tit+1)*Batch_size])\n",
    "        pred, val_loss = net.forward(val_data[titt*val_Batch_size:(titt+1)*val_Batch_size], val_label_onehot[titt*val_Batch_size:(titt+1)*val_Batch_size])\n",
    "        pred_index = np.argmax(pred, axis=1)\n",
    "#         val_hit += (pred_index==train_label[tit*Batch_size:(tit+1)*Batch_size]).sum()\n",
    "        val_hit += (pred_index==val_label[titt*val_Batch_size:(titt+1)*val_Batch_size]).sum()\n",
    "        total_val_loss += val_loss\n",
    "        \n",
    "    # store training and validation accuracy, loss\n",
    "    epoch_cnt.append(epoch)\n",
    "    trainAcc_curve.append(train_hit/(train_image_num-val_image_num)*100.0)\n",
    "    valAcc_curve.append(val_hit/val_image_num*100.0)\n",
    "    trainLoss_curve.append(total_train_loss/train_batch_num)\n",
    "    valLoss_curve.append(total_val_loss/val_batch_num)\n",
    "        \n",
    "    print('Epoch:%3d'%epoch, '|Train Loss:%8.4f'%(total_train_loss/train_batch_num), '|Train Acc:%3.4f'%(train_hit/(train_image_num-val_image_num)*100.0)\n",
    "          , '|Val Loss:%8.4f'%(total_val_loss/val_batch_num), '|Val Acc:%3.4f'%(val_hit/val_image_num*100.0))"
   ]
  },
  {
   "cell_type": "code",
   "execution_count": 15,
   "metadata": {},
   "outputs": [
    {
     "data": {
      "image/png": "[encoded data removed]",
      "text/plain": [
       "<Figure size 432x288 with 1 Axes>"
      ]
     },
     "metadata": {
      "needs_background": "light"
     },
     "output_type": "display_data"
    },
    {
     "data": {
      "image/png": "[encoded data removed]",
      "text/plain": [
       "<Figure size 432x288 with 1 Axes>"
      ]
     },
     "metadata": {
      "needs_background": "light"
     },
     "output_type": "display_data"
    }
   ],
   "source": [
    "plotGraph(y1=trainAcc_curve, x1=epoch_cnt, y2=valAcc_curve, x2=epoch_cnt)\n",
    "plotGraph(y1=trainLoss_curve, x1=epoch_cnt, y2=valLoss_curve, x2=epoch_cnt, y_axis='Loss')"
   ]
  },
  {
   "cell_type": "markdown",
   "metadata": {},
   "source": [
    "# your test prediction on test data"
   ]
  },
  {
   "cell_type": "markdown",
   "metadata": {},
   "source": [
    "#upload csv to kaggle and get your score"
   ]
  },
  {
   "cell_type": "code",
   "execution_count": 16,
   "metadata": {},
   "outputs": [
    {
     "name": "stdout",
     "output_type": "stream",
     "text": [
      "Dump file...\n"
     ]
    }
   ],
   "source": [
    "test_pred_list = []\n",
    "\n",
    "for tit in range(test_image_num//Batch_size):\n",
    "    pred, test_loss = net.forward(test_data[tit*Batch_size:(tit+1)*Batch_size], train_label_onehot[tit*Batch_size:(tit+1)*Batch_size])\n",
    "    pred_index = np.argmax(pred, axis=1)\n",
    "    test_pred_list += pred_index.tolist()\n",
    "    \n",
    "\n",
    "print('Dump file...')\n",
    "df = pd.DataFrame(test_pred_list, columns=[\"Category\"])\n",
    "df.to_csv('test-predict.csv', index=True, index_label=\"Id\")"
   ]
  },
  {
   "cell_type": "code",
   "execution_count": null,
   "metadata": {},
   "outputs": [],
   "source": []
  },
  {
   "cell_type": "code",
   "execution_count": null,
   "metadata": {},
   "outputs": [],
   "source": []
  }
 ],
 "metadata": {
  "kernelspec": {
   "display_name": "Python 3.8.2 64-bit",
   "language": "python",
   "name": "python38264bit47634c11a1d2441ab5e7322abc67a0a7"
  },
  "language_info": {
   "codemirror_mode": {
    "name": "ipython",
    "version": 3
   },
   "file_extension": ".py",
   "mimetype": "text/x-python",
   "name": "python",
   "nbconvert_exporter": "python",
   "pygments_lexer": "ipython3",
   "version": "3.8.2"
  }
 },
 "nbformat": 4,
 "nbformat_minor": 4
}
