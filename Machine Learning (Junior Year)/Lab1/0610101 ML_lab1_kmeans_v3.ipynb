{
 "cells": [
  {
   "cell_type": "code",
   "execution_count": 1,
   "metadata": {},
   "outputs": [],
   "source": [
    "import pandas as pd\n",
    "import numpy as np\n",
    "import matplotlib.pyplot as plt\n",
    "%matplotlib inline\n",
    "\n",
    "\n",
    "import os\n",
    "\n",
    "\n",
    "import cv2"
   ]
  },
  {
   "cell_type": "code",
   "execution_count": 2,
   "metadata": {},
   "outputs": [],
   "source": [
    "# preprocess image\n",
    "def preprocessImg(img, new_width=30, new_height=30): # if the size is too big, a memory overflow will occur when calculating covariance\n",
    "    new_dim = (new_width, new_height)\n",
    "    return cv2.resize(img, new_dim, interpolation=cv2.INTER_LINEAR)"
   ]
  },
  {
   "cell_type": "code",
   "execution_count": 3,
   "metadata": {},
   "outputs": [],
   "source": [
    "def PCA(data, n_components=3):\n",
    "    mean_vector = np.mean(data, axis=0) # calculate the mean of each column\n",
    "    std_vector = np.std(data, axis=0) # calculate standard deviation of each column\n",
    "    \n",
    "    \n",
    "    # normalize here\n",
    "    centered_data = data - mean_vector # center data by subtracting mean\n",
    "    standardized_data = centered_data / std_vector\n",
    "    \n",
    "    \n",
    "    \n",
    "    cov = np.cov(standardized_data.T) # caluculate covariance matrix of centered matrix (np.cov calculates covariance of rows, thus need transpose)\n",
    "    eig_values, eig_vectors = np.linalg.eig(cov) # get eigenvalues and eigenvectors\n",
    "    \n",
    "    \n",
    "    max_indexes = []\n",
    "    for i in range(0, n_components):\n",
    "        maxIndex = np.argmax(eig_values)\n",
    "        max_indexes.append(maxIndex)\n",
    "        eig_values[maxIndex] = 0\n",
    "         \n",
    "    # final_features = np.empty(0)\n",
    "    final_features = eig_vectors[:, max_indexes]\n",
    "   # print(len(final_features))\n",
    "    \n",
    "    projected_data = (np.dot(standardized_data, final_features))\n",
    "    #projected_data = (np.dot(eig_vectors.T, cov.T)).T # return projected data matrix\n",
    "    \n",
    "    return projected_data"
   ]
  },
  {
   "cell_type": "code",
   "execution_count": 4,
   "metadata": {},
   "outputs": [],
   "source": [
    "class K_means:\n",
    "    \n",
    "    def __init__(self, n_clusters=2, tol=0.0001, max_iter=300):\n",
    "        self.n_clusters = n_clusters\n",
    "        self.tol = tol\n",
    "        self.max_iter = max_iter\n",
    "        \n",
    "    def fit(self, data, initial_centroids):\n",
    "        self.centroids = {}\n",
    "        for i in range(self.n_clusters):\n",
    "            self.centroids[i] = data[initial_centroids[i]]\n",
    "\n",
    "        for i in range(self.max_iter):\n",
    "            self.classifications = {}\n",
    "            \n",
    "            for i in range(self.n_clusters):\n",
    "                self.classifications[i] = []\n",
    "\n",
    "\n",
    "            for datapoint in data:\n",
    "                distances = [np.linalg.norm(datapoint - self.centroids[centroid]) for centroid in self.centroids]\n",
    "                classification = distances.index(min(distances))\n",
    "                self.classifications[classification].append(datapoint)\n",
    "\n",
    "            prev_centroids = dict(self.centroids)\n",
    "\n",
    "            for classification in self.classifications:\n",
    "                self.centroids[classification] = np.average(self.classifications[classification], axis=0)\n",
    "\n",
    "            optimized = True\n",
    "\n",
    "            for c in self.centroids:\n",
    "                original_centroid = prev_centroids[c]\n",
    "                current_centroid = self.centroids[c]\n",
    "                centroidMovement = np.sum((current_centroid - original_centroid) / original_centroid * 100.0)\n",
    "                if centroidMovement > self.tol:\n",
    "                    optimized = False\n",
    "\n",
    "            if optimized:\n",
    "                break\n",
    "                \n",
    "                \n",
    "    def predict(self, datapoint):\n",
    "        distances = [np.linalg.norm(datapoint - self.centroids[centroid]) for centroid in self.centroids]\n",
    "        classification = distances.index(min(distances))\n",
    "        return classification"
   ]
  },
  {
   "cell_type": "markdown",
   "metadata": {},
   "source": [
    "Start to read red mango data(you need to do PCA by yourself)"
   ]
  },
  {
   "cell_type": "code",
   "execution_count": 5,
   "metadata": {},
   "outputs": [],
   "source": [
    "imgSet = []"
   ]
  },
  {
   "cell_type": "code",
   "execution_count": null,
   "metadata": {},
   "outputs": [],
   "source": []
  },
  {
   "cell_type": "code",
   "execution_count": null,
   "metadata": {},
   "outputs": [],
   "source": []
  },
  {
   "cell_type": "code",
   "execution_count": null,
   "metadata": {},
   "outputs": [],
   "source": []
  },
  {
   "cell_type": "code",
   "execution_count": null,
   "metadata": {},
   "outputs": [],
   "source": []
  },
  {
   "cell_type": "code",
   "execution_count": 6,
   "metadata": {},
   "outputs": [],
   "source": [
    "##############  your turn  , do PCA  ##############\n",
    "\n",
    "#sklearn is not allow!! you need to implement  function step by step\n",
    "##############  PCA  RULES   #################\n",
    "###  for drawing 3D graph  , you should make dimension =3\n",
    "### On calculating accuracy , you can set any dimension \n",
    "# hint ~ you can save the PCA result to the list ,train_red\n",
    "path='./sum/green/'\n",
    "files=os.listdir(path)\n",
    "\n",
    "for file in files:\n",
    "    \n",
    "    p=path+file\n",
    "    img = cv2.imread(p)\n",
    "\n",
    "    resizedImg = preprocessImg(img)\n",
    "    imgVector = resizedImg.flatten(order='C')\n",
    "    imgSet.append(imgVector)\n",
    "    \n",
    "    \n"
   ]
  },
  {
   "cell_type": "markdown",
   "metadata": {},
   "source": [
    "Start to read green mango data(you need to do PCA by yourself)"
   ]
  },
  {
   "cell_type": "code",
   "execution_count": 7,
   "metadata": {},
   "outputs": [],
   "source": [
    "##############  your turn  , do PCA  ##############\n",
    "\n",
    "#sklearn is not allow!! you need to implement kmeans function step by step\n",
    "##############  PCA  RULES   #################\n",
    "\n",
    "###  for drawing 3D graph  , you should make dimension =3\n",
    "### On calculating accuracy , you can set any dimension \n",
    "# hint ~ you can save the PCA result to the list ,train_green\n",
    "\n",
    "\n",
    "path='./sum/red/'\n",
    "files=os.listdir(path)\n",
    "\n",
    "for file in files:\n",
    "    \n",
    "    p=path+file\n",
    "    img = cv2.imread(p)\n",
    "\n",
    "    resizedImg = preprocessImg(img)\n",
    "    imgVector = resizedImg.flatten(order='C')\n",
    "    imgSet.append(imgVector)\n",
    "    \n",
    "\n",
    "    \n",
    "\n"
   ]
  },
  {
   "cell_type": "code",
   "execution_count": 8,
   "metadata": {},
   "outputs": [
    {
     "name": "stdout",
     "output_type": "stream",
     "text": [
      "72\n",
      "3\n"
     ]
    },
    {
     "name": "stderr",
     "output_type": "stream",
     "text": [
      "<ipython-input-8-f9dd6cee6ebb>:4: ComplexWarning: Casting complex values to real discards the imaginary part\n",
      "  transformed_data = transformed_data.astype(float)\n"
     ]
    }
   ],
   "source": [
    "imgSet = np.asarray(imgSet)\n",
    "\n",
    "transformed_data = PCA(imgSet)\n",
    "transformed_data = transformed_data.astype(float)\n",
    "print(len(transformed_data))\n",
    "print(len(transformed_data[0]))"
   ]
  },
  {
   "cell_type": "markdown",
   "metadata": {},
   "source": [
    "show the PCA result "
   ]
  },
  {
   "cell_type": "markdown",
   "metadata": {},
   "source": [
    "this is the correct answer of your kmeans \n"
   ]
  },
  {
   "cell_type": "markdown",
   "metadata": {},
   "source": [
    "in the other words,your kmeans result need to as similar to this one as possible "
   ]
  },
  {
   "cell_type": "code",
   "execution_count": 9,
   "metadata": {},
   "outputs": [],
   "source": [
    "xx=[]\n",
    "yy=[]\n",
    "zz=[]\n",
    "for i in range(36):\n",
    "    xx.append(transformed_data[i][0])\n",
    "    yy.append(transformed_data[i][1])\n",
    "    zz.append(transformed_data[i][2])"
   ]
  },
  {
   "cell_type": "code",
   "execution_count": 10,
   "metadata": {},
   "outputs": [],
   "source": [
    "xxx=[]\n",
    "yyy=[]\n",
    "zzz=[]\n",
    "for i in range(36,72):\n",
    "    xxx.append(transformed_data[i][0])\n",
    "    yyy.append(transformed_data[i][1])\n",
    "    zzz.append(transformed_data[i][2])"
   ]
  },
  {
   "cell_type": "code",
   "execution_count": 11,
   "metadata": {},
   "outputs": [
    {
     "data": {
      "image/png": "[encoded data removed]",
      "text/plain": [
       "<Figure size 432x288 with 1 Axes>"
      ]
     },
     "metadata": {
      "needs_background": "light"
     },
     "output_type": "display_data"
    }
   ],
   "source": [
    "from mpl_toolkits.mplot3d import Axes3D\n",
    "\n",
    "\n",
    "\n",
    "# x, y, z = data[0], data[1], data[2]\n",
    "ax = plt.subplot(111, projection='3d')  \n",
    "\n",
    "ax.scatter(xx, yy, zz, c='g')\n",
    "ax.scatter(xxx, yyy, zzz, c='r')\n",
    "\n",
    "ax.set_zlabel('Z')  \n",
    "ax.set_ylabel('Y')\n",
    "ax.set_xlabel('X')\n",
    "plt.show()"
   ]
  },
  {
   "cell_type": "code",
   "execution_count": null,
   "metadata": {},
   "outputs": [],
   "source": []
  },
  {
   "cell_type": "markdown",
   "metadata": {},
   "source": [
    "start to do your kmeans!"
   ]
  },
  {
   "cell_type": "code",
   "execution_count": null,
   "metadata": {},
   "outputs": [],
   "source": []
  },
  {
   "cell_type": "code",
   "execution_count": 12,
   "metadata": {},
   "outputs": [],
   "source": [
    "#put all the mango data to total_train\n",
    "#you need to cluster total_train\n",
    "#Finally,your kmeans result should show which mango point is red mango or green mango\n",
    "\n",
    "#1-36 is green data \n",
    "#37-72 is red data\n",
    "#don't alter this order\n",
    "\n",
    "#total_train=train_green+train_red"
   ]
  },
  {
   "cell_type": "code",
   "execution_count": 13,
   "metadata": {},
   "outputs": [],
   "source": [
    "# pred=[]"
   ]
  },
  {
   "cell_type": "code",
   "execution_count": 14,
   "metadata": {},
   "outputs": [
    {
     "name": "stderr",
     "output_type": "stream",
     "text": [
      "c:\\users\\yorkg\\appdata\\local\\programs\\python\\python38\\lib\\site-packages\\numpy\\lib\\function_base.py:393: RuntimeWarning: Mean of empty slice.\n",
      "  avg = a.mean(axis)\n",
      "c:\\users\\yorkg\\appdata\\local\\programs\\python\\python38\\lib\\site-packages\\numpy\\core\\_methods.py:161: RuntimeWarning: invalid value encountered in double_scalars\n",
      "  ret = ret.dtype.type(ret / rcount)\n",
      "<ipython-input-4-814836342b37>:35: RuntimeWarning: invalid value encountered in true_divide\n",
      "  centroidMovement = np.sum((current_centroid - original_centroid) / original_centroid * 100.0)\n"
     ]
    }
   ],
   "source": [
    "init_centroids = [[a,b] for a in range(len(transformed_data)) for b in range(len(transformed_data))]\n",
    "#Max_Accuracy = 0\n",
    "max_yieldings = []\n",
    "\n",
    "for initial_centroids in init_centroids:\n",
    "    K_means_model = K_means()\n",
    "    K_means_model.fit(transformed_data, [36, 3])\n",
    "    class1 = []\n",
    "    class2 = []\n",
    "    pred = []\n",
    "    \n",
    "    for datapoint in transformed_data:\n",
    "        if K_means_model.predict(datapoint) == 0: # is red\n",
    "            class1.append(datapoint)\n",
    "            pred.append(0)\n",
    "        else:\n",
    "            class2.append(datapoint)     # is green\n",
    "            pred.append(1)\n",
    "            \n",
    "    del K_means_model\n",
    "        "
   ]
  },
  {
   "cell_type": "code",
   "execution_count": 15,
   "metadata": {},
   "outputs": [
    {
     "name": "stdout",
     "output_type": "stream",
     "text": [
      "[0, 0, 0, 0, 0, 0, 0, 0, 0, 0, 0, 0, 0, 0, 0, 0, 0, 0, 0, 0, 0, 0, 0, 0, 0, 0, 0, 0, 0, 0, 0, 0, 0, 0, 0, 0, 0, 0, 0, 0, 0, 0, 0, 0, 0, 0, 0, 0, 0, 0, 0, 0, 0, 0, 0, 0, 0, 0, 0, 0, 0, 0, 0, 0, 0, 0, 0, 0, 0, 0, 0, 0]\n"
     ]
    }
   ],
   "source": [
    "print(pred)"
   ]
  },
  {
   "cell_type": "code",
   "execution_count": null,
   "metadata": {},
   "outputs": [],
   "source": []
  },
  {
   "cell_type": "code",
   "execution_count": null,
   "metadata": {},
   "outputs": [],
   "source": []
  },
  {
   "cell_type": "code",
   "execution_count": null,
   "metadata": {},
   "outputs": [],
   "source": []
  },
  {
   "cell_type": "code",
   "execution_count": null,
   "metadata": {},
   "outputs": [],
   "source": []
  },
  {
   "cell_type": "markdown",
   "metadata": {},
   "source": [
    "this is your kmeans result!"
   ]
  },
  {
   "cell_type": "code",
   "execution_count": 16,
   "metadata": {},
   "outputs": [],
   "source": [
    "#you need to show me your kmeans result in 3D picture like the result in video !\n",
    "\n"
   ]
  },
  {
   "cell_type": "code",
   "execution_count": 17,
   "metadata": {},
   "outputs": [],
   "source": [
    "rxx=[]\n",
    "ryy=[]\n",
    "rzz=[]\n",
    "for i in class1:\n",
    "    rxx.append(i[0])\n",
    "    ryy.append(i[1])\n",
    "    rzz.append(i[2])"
   ]
  },
  {
   "cell_type": "code",
   "execution_count": 18,
   "metadata": {},
   "outputs": [],
   "source": [
    "rxxx=[]\n",
    "ryyy=[]\n",
    "rzzz=[]\n",
    "for i in class2:\n",
    "    rxxx.append(i[0])\n",
    "    ryyy.append(i[1])\n",
    "    rzzz.append(i[2])"
   ]
  },
  {
   "cell_type": "code",
   "execution_count": 19,
   "metadata": {},
   "outputs": [
    {
     "data": {
      "image/png": "[encoded data removed]",
      "text/plain": [
       "<Figure size 432x288 with 1 Axes>"
      ]
     },
     "metadata": {
      "needs_background": "light"
     },
     "output_type": "display_data"
    }
   ],
   "source": [
    "from mpl_toolkits.mplot3d import Axes3D\n",
    "\n",
    "\n",
    "ax = plt.subplot(111, projection='3d') \n",
    "\n",
    "ax.scatter(rxx, ryy, rzz, c='g')\n",
    "ax.scatter(rxxx, ryyy, rzzz, c='r')\n",
    "\n",
    "ax.set_zlabel('Z')  \n",
    "ax.set_ylabel('Y')\n",
    "ax.set_xlabel('X')\n",
    "plt.show()"
   ]
  },
  {
   "cell_type": "markdown",
   "metadata": {},
   "source": [
    "Here is the code which calculate the accuracy of your kmeans result"
   ]
  },
  {
   "cell_type": "code",
   "execution_count": 20,
   "metadata": {},
   "outputs": [],
   "source": [
    "#Do your best to improve accuracy.but don't cheat by looking answer and make pred by yourself "
   ]
  },
  {
   "cell_type": "code",
   "execution_count": 21,
   "metadata": {},
   "outputs": [],
   "source": [
    "# total_train have 72 mango data\n",
    "#1~36 is green mango\n",
    "#37~72 is red mango\n",
    "#so the correct classification answer of  mango is  ans = [1,1,1,1,1,1,1,1,1,1,0,0,0,0,0,0,0,0,0,0]\n",
    "#1 is green\n",
    "#0 is red"
   ]
  },
  {
   "cell_type": "code",
   "execution_count": 22,
   "metadata": {},
   "outputs": [],
   "source": [
    "# At here ! you need to show me your kmeans result in  the list  ,pred=[]\n",
    "#for example,pred may be   pred=[0, 0, 0, 0, 1, 0, 1, 1, 0, 1, 0, 0, 0, 0, 0, 0, 0, 0, 0, 0]\n",
    "#in this case,the accuracy is 0.7  .  \n",
    "#6 error , 14 correct  ,  14/20= 0.7 "
   ]
  },
  {
   "cell_type": "code",
   "execution_count": null,
   "metadata": {},
   "outputs": [],
   "source": []
  },
  {
   "cell_type": "code",
   "execution_count": null,
   "metadata": {},
   "outputs": [],
   "source": []
  },
  {
   "cell_type": "code",
   "execution_count": null,
   "metadata": {},
   "outputs": [],
   "source": []
  },
  {
   "cell_type": "code",
   "execution_count": 23,
   "metadata": {},
   "outputs": [
    {
     "name": "stdout",
     "output_type": "stream",
     "text": [
      "[0, 0, 0, 0, 0, 0, 0, 0, 0, 0, 0, 0, 0, 0, 0, 0, 0, 0, 0, 0, 0, 0, 0, 0, 0, 0, 0, 0, 0, 0, 0, 0, 0, 0, 0, 0, 0, 0, 0, 0, 0, 0, 0, 0, 0, 0, 0, 0, 0, 0, 0, 0, 0, 0, 0, 0, 0, 0, 0, 0, 0, 0, 0, 0, 0, 0, 0, 0, 0, 0, 0, 0]\n"
     ]
    }
   ],
   "source": [
    "print(pred)"
   ]
  },
  {
   "cell_type": "code",
   "execution_count": 24,
   "metadata": {},
   "outputs": [],
   "source": [
    "pred=np.array(pred)"
   ]
  },
  {
   "cell_type": "code",
   "execution_count": 25,
   "metadata": {},
   "outputs": [],
   "source": [
    "correct=0\n",
    "error=0\n",
    "ans = np.array([1,1,1,1,1,1,1,1,1,1,1,1,1,1,1,1,1,1,1,1,1,1,1,1,1,1,1,1,1,1,1,1,1,1,1,1,0,0,0,0,0,0,0,0,0,0,0,0,0,0,0,0,0,0,0,0,0,0,0,0,0,0,0,0,0,0,0,0,0,0,0,0])\n",
    "for i in range(72):\n",
    "    if ans[i]==pred[i]:\n",
    "        correct+=1\n",
    "    if ans[i]!=pred[i]:\n",
    "        error+=1"
   ]
  },
  {
   "cell_type": "code",
   "execution_count": 26,
   "metadata": {},
   "outputs": [],
   "source": [
    "accuracy=correct/72"
   ]
  },
  {
   "cell_type": "code",
   "execution_count": 27,
   "metadata": {},
   "outputs": [
    {
     "data": {
      "text/plain": [
       "0.5"
      ]
     },
     "execution_count": 27,
     "metadata": {},
     "output_type": "execute_result"
    }
   ],
   "source": [
    "accuracy"
   ]
  },
  {
   "cell_type": "code",
   "execution_count": null,
   "metadata": {},
   "outputs": [],
   "source": []
  },
  {
   "cell_type": "code",
   "execution_count": null,
   "metadata": {},
   "outputs": [],
   "source": []
  },
  {
   "cell_type": "code",
   "execution_count": null,
   "metadata": {},
   "outputs": [],
   "source": []
  },
  {
   "cell_type": "markdown",
   "metadata": {},
   "source": [
    "submit your pred=[......] to kaggle and look your rank"
   ]
  },
  {
   "cell_type": "code",
   "execution_count": null,
   "metadata": {},
   "outputs": [],
   "source": []
  },
  {
   "cell_type": "code",
   "execution_count": null,
   "metadata": {},
   "outputs": [],
   "source": []
  },
  {
   "cell_type": "code",
   "execution_count": null,
   "metadata": {},
   "outputs": [],
   "source": []
  }
 ],
 "metadata": {
  "kernelspec": {
   "display_name": "Python 3",
   "language": "python",
   "name": "python3"
  },
  "language_info": {
   "codemirror_mode": {
    "name": "ipython",
    "version": 3
   },
   "file_extension": ".py",
   "mimetype": "text/x-python",
   "name": "python",
   "nbconvert_exporter": "python",
   "pygments_lexer": "ipython3",
   "version": "3.8.2"
  }
 },
 "nbformat": 4,
 "nbformat_minor": 2
}
