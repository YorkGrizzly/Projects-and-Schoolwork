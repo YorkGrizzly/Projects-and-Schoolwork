{
 "cells": [
  {
   "cell_type": "code",
   "execution_count": 1,
   "metadata": {},
   "outputs": [],
   "source": [
    "\"\"\"\n",
    "can use different unsupervised method to increase accuracy -> not necessarily dimension 3\n",
    "\"\"\"\n",
    "import pandas as pd\n",
    "import numpy as np\n",
    "import matplotlib.pyplot as plt\n",
    "%matplotlib inline\n",
    "\n",
    "\n",
    "import os\n",
    "\n",
    "\n",
    "import cv2"
   ]
  },
  {
   "cell_type": "markdown",
   "metadata": {},
   "source": [
    "Start to read red mango data(you need to do PCA by yourself)"
   ]
  },
  {
   "cell_type": "raw",
   "metadata": {},
   "source": [
    "stuff to do to improve:\n",
    "    method: list all parameters (image size, channels, number of PCA features...)\n",
    "\n",
    "   shuffle Kmeans intial centroid\n",
    "   remove image noise: https://towardsdatascience.com/image-pre-processing-c1aec0be3edf\n",
    "   pull all k-features before very small eigenvalue\n",
    "   change channels rgb accordingly"
   ]
  },
  {
   "cell_type": "code",
   "execution_count": 2,
   "metadata": {},
   "outputs": [],
   "source": [
    "# preprocess image\n",
    "def preprocessImg(img, new_width=30, new_height=30): # if the size is too big, a memory overflow will occur when calculating covariance\n",
    "    new_dim = (new_width, new_height)\n",
    "    return cv2.resize(img, new_dim, interpolation=cv2.INTER_LINEAR)"
   ]
  },
  {
   "cell_type": "code",
   "execution_count": 3,
   "metadata": {},
   "outputs": [],
   "source": [
    "def PCA(data, n_components=3):\n",
    "    mean_vector = np.mean(data, axis=0) # calculate the mean of each column\n",
    "    std_vector = np.std(data, axis=0) # calculate standard deviation of each column\n",
    "    \n",
    "    \n",
    "    # normalize here\n",
    "    centered_data = data - mean_vector # center data by subtracting mean\n",
    "    standardized_data = centered_data / std_vector\n",
    "    \n",
    "    \n",
    "    \n",
    "    cov = np.cov(standardized_data.T) # caluculate covariance matrix of centered matrix (np.cov calculates covariance of rows, thus need transpose)\n",
    "    eig_values, eig_vectors = np.linalg.eig(cov) # get eigenvalues and eigenvectors\n",
    "    \n",
    "    \n",
    "    max_indexes = []\n",
    "    for i in range(0, n_components):\n",
    "        maxIndex = np.argmax(eig_values)\n",
    "        max_indexes.append(maxIndex)\n",
    "        eig_values[maxIndex] = 0\n",
    "#         if maxIndex != i:\n",
    "#             print(\"The \" + str(maxIndex) + \" largest value is \" + str(eig_values[maxIndex]))\n",
    "        \n",
    "        \n",
    "    \n",
    "    # final_features = np.empty(0)\n",
    "    final_features = eig_vectors[:, max_indexes]\n",
    "   # print(len(final_features))\n",
    "    \n",
    "    projected_data = (np.dot(standardized_data, final_features))\n",
    "    #projected_data = (np.dot(eig_vectors.T, cov.T)).T # return projected data matrix\n",
    "    \n",
    "    return projected_data"
   ]
  },
  {
   "cell_type": "code",
   "execution_count": null,
   "metadata": {},
   "outputs": [],
   "source": []
  },
  {
   "cell_type": "code",
   "execution_count": null,
   "metadata": {},
   "outputs": [],
   "source": []
  },
  {
   "cell_type": "code",
   "execution_count": 4,
   "metadata": {
    "scrolled": true
   },
   "outputs": [],
   "source": [
    "##############  your turn  , do PCA  ##############\n",
    "\n",
    "##############  PCA  RULES   #################\n",
    "###  for drawing 3D graph  , you should make dimension = 3\n",
    "### On calculating accuracy , you can set any dimension \n",
    "# hint ~ you can save the PCA result to the list ,train_red\n",
    "\n",
    "##############  your turn  , do PCA  ##############\n",
    "\n",
    "#sklearn is not allow!! you need to implement kmeans function step by step\n",
    "##############  PCA  RULES   #################\n",
    "\n",
    "###  for drawing 3D graph  , you should make dimension = 3\n",
    "### On calculating accuracy , you can set any dimension \n",
    "# hint ~ you can save the PCA result to the list ,train_green\n",
    "\n",
    "imgSet = []\n",
    "\n",
    "path = './sum/green/'\n",
    "files = os.listdir(path)\n",
    "#train_green = []\n",
    "\n",
    "\n",
    "for file in files:\n",
    "    \n",
    "    p = path + file\n",
    "    img = cv2.imread(p)\n",
    "    \n",
    "    resizedImg = preprocessImg(img, 30, 30)\n",
    "    imgVector = resizedImg.flatten(order='C')\n",
    "    imgSet.append(imgVector)\n",
    "\n",
    "path = './sum/red/'\n",
    "files = os.listdir(path)\n",
    "#train_red = []\n",
    "\n",
    "\n",
    "\n",
    "for file in files:\n",
    "    \n",
    "    p = path + file\n",
    "    img = cv2.imread(p)  # read each img and store in 3D array \n",
    "    \n",
    "    resizedImg = preprocessImg(img, 30, 30) # resize image\n",
    "    imgVector = resizedImg.flatten(order='C') # flatten image to 1D vector\n",
    "    imgSet.append(imgVector) # store 1d image vectors in a list\n",
    "    \n",
    "\n",
    "    \n"
   ]
  },
  {
   "cell_type": "code",
   "execution_count": 5,
   "metadata": {},
   "outputs": [
    {
     "name": "stdout",
     "output_type": "stream",
     "text": [
      "72\n",
      "3\n"
     ]
    },
    {
     "name": "stderr",
     "output_type": "stream",
     "text": [
      "/usr/local/lib/python3.6/dist-packages/ipykernel_launcher.py:16: ComplexWarning: Casting complex values to real discards the imaginary part\n",
      "  app.launch_new_instance()\n"
     ]
    },
    {
     "data": {
      "text/plain": [
       "\"\\nx   1. resize image\\nx   2. concatenate row by row in an image\\n3. find mean of each feature\\n4. center each datapoint based on each feature's mean\\n5. find covariance matrix\\n6. eigendecomposition of covariance meatrix\\n7. rank features according to eigenvalues\\n\""
      ]
     },
     "execution_count": 5,
     "metadata": {},
     "output_type": "execute_result"
    }
   ],
   "source": [
    "    \"\"\"\n",
    "    \n",
    "            feat.1  feat.2  feat.3 ...  feat.x\n",
    "    img1\n",
    "    img2\n",
    "    ...\n",
    "    img36\n",
    "    \n",
    "    \n",
    "    \"\"\"\n",
    "imgSet = np.asarray(imgSet) # turn into nparray\n",
    "\n",
    "\n",
    "transformed_data = PCA(imgSet) # do PCA on each image here\n",
    "\n",
    "transformed_data = transformed_data.astype(float)\n",
    "\n",
    "print(len(transformed_data))\n",
    "print(len(transformed_data[0]))\n",
    "\n",
    "\n",
    "\n",
    "\n",
    "\"\"\"\n",
    "x   1. resize image\n",
    "x   2. concatenate row by row in an image\n",
    "    3. find mean of each feature\n",
    "    4. center each datapoint based on each feature's mean\n",
    "    5. find covariance matrix\n",
    "    6. eigendecomposition of covariance meatrix\n",
    "    7. rank features according to eigenvalues\n",
    "\"\"\""
   ]
  },
  {
   "cell_type": "markdown",
   "metadata": {},
   "source": [
    "show the PCA result "
   ]
  },
  {
   "cell_type": "markdown",
   "metadata": {},
   "source": [
    "this is the correct answer of your kmeans \n"
   ]
  },
  {
   "cell_type": "markdown",
   "metadata": {},
   "source": [
    "in the other words,your kmeans result need to as similar to this one as possible "
   ]
  },
  {
   "cell_type": "code",
   "execution_count": 6,
   "metadata": {},
   "outputs": [],
   "source": [
    "xx = []\n",
    "yy = []\n",
    "zz = []\n",
    "for i in range(36):\n",
    "    xx.append(transformed_data[i][0])\n",
    "    yy.append(transformed_data[i][1])\n",
    "    zz.append(transformed_data[i][2])\n",
    "    \n",
    "xxx = []\n",
    "yyy = []\n",
    "zzz = []\n",
    "for i in range(36,72):\n",
    "    xxx.append(transformed_data[i][0])\n",
    "    yyy.append(transformed_data[i][1])\n",
    "    zzz.append(transformed_data[i][2])\n"
   ]
  },
  {
   "cell_type": "code",
   "execution_count": 7,
   "metadata": {},
   "outputs": [],
   "source": [
    "# xx=[]\n",
    "# yy=[]\n",
    "# zz=[]\n",
    "# for i in train_red:\n",
    "#     xx.append(i[0])\n",
    "#     yy.append(i[1])\n",
    "#     zz.append(i[2])"
   ]
  },
  {
   "cell_type": "code",
   "execution_count": 8,
   "metadata": {},
   "outputs": [],
   "source": [
    "# xxx=[]\n",
    "# yyy=[]\n",
    "# zzz=[]\n",
    "# for i in train_green:\n",
    "#     xxx.append(i[0])\n",
    "#     yyy.append(i[1])\n",
    "#     zzz.append(i[2])"
   ]
  },
  {
   "cell_type": "code",
   "execution_count": 9,
   "metadata": {},
   "outputs": [
    {
     "data": {
      "image/png": "[encoded data removed]",
      "text/plain": [
       "<Figure size 432x288 with 1 Axes>"
      ]
     },
     "metadata": {},
     "output_type": "display_data"
    }
   ],
   "source": [
    "from mpl_toolkits.mplot3d import Axes3D\n",
    "\n",
    "\n",
    "\n",
    "# x, y, z = data[0], data[1], data[2]\n",
    "ax = plt.subplot(111, projection='3d')  \n",
    "\n",
    "#ax.scatter(xx, yy, zz)\n",
    "\n",
    "ax.scatter(xxx, yyy, zzz, c='r')\n",
    "\n",
    "ax.scatter(xx, yy, zz, c='g')\n",
    "\n",
    "ax.set_zlabel('Z')  \n",
    "ax.set_ylabel('Y')\n",
    "ax.set_xlabel('X')\n",
    "plt.show()"
   ]
  },
  {
   "cell_type": "code",
   "execution_count": null,
   "metadata": {},
   "outputs": [],
   "source": []
  },
  {
   "cell_type": "markdown",
   "metadata": {},
   "source": [
    "start to do your kmeans!"
   ]
  },
  {
   "cell_type": "code",
   "execution_count": 10,
   "metadata": {},
   "outputs": [],
   "source": [
    "# Kmeans\n",
    "class K_means:\n",
    "    def __init__(self, n_clusters=2, tol=0.0001, max_iter=300): # tol: tolerance (if centroid is not moving more than this value)\n",
    "        self.n_clusters = n_clusters\n",
    "        self.tol = tol\n",
    "        self.max_iter = max_iter\n",
    "    def fit(self, data, initial_centroids):\n",
    "        \n",
    "        self.centroids = {}\n",
    "        \n",
    "        for i in range(self.n_clusters): # use first data sample as initial centroid, can shuffle to increase randomness\n",
    "            #self.centroids[i] = data[i] # use first data\n",
    "            self.centroids[i] = data[initial_centroids[i]] # feed a list of inital centroids\n",
    "        \n",
    "        for i in range(self.max_iter): # begin optimization process\n",
    "                self.classifications = {}\n",
    "                \n",
    "                for i in range(self.n_clusters):\n",
    "                    self.classifications[i] = [] # each cluster is a list storing datapoints that belong to the cluster\n",
    "                    \n",
    "                for datapoint in data:\n",
    "                    distances = [np.linalg.norm(datapoint-self.centroids[centroid]) for centroid in self.centroids]\n",
    "                    classification = distances.index(min(distances))\n",
    "                    self.classifications[classification].append(datapoint) # classify datapoint to cluster\n",
    "                    \n",
    "                prev_centroids = dict(self.centroids) # remember current centroid to compare with future centroid\n",
    "                \n",
    "                for classification in self.classifications:\n",
    "                    self.centroids[classification] = np.average(self.classifications[classification], axis=0)  # reassign new centroid\n",
    "                    \n",
    "                optimized = True\n",
    "                \n",
    "                for c in self.centroids:\n",
    "                    original_centroid = prev_centroids[c]\n",
    "                    current_centroid = self.centroids[c]\n",
    "                    centroidMovement = np.sum((current_centroid-original_centroid)/original_centroid*100.0)\n",
    "                    if centroidMovement > self.tol:\n",
    "                        optimized = False\n",
    "                        \n",
    "                if optimized:\n",
    "                    break\n",
    "                    \n",
    "    def predict(self, datapoint): # classifies datapoint individually\n",
    "        distances = [np.linalg.norm(datapoint - self.centroids[centroid]) for centroid in self.centroids]\n",
    "        classification = distances.index(min(distances))\n",
    "        return classification\n",
    "                    \n",
    "                    \n",
    "    \"\"\"\n",
    "    1. for each iteration find new centroid\n",
    "    2. for each centroid calculate distance to each datatpoint\n",
    "    3. pick min and classify each datapoint to each centroid\n",
    "    4. mean all datapoints in each cluster and find new centroid\n",
    "    5. keep doing until reaching max_iter or reach tolerance\n",
    "    \"\"\"\n",
    "    \n",
    "    "
   ]
  },
  {
   "cell_type": "code",
   "execution_count": 11,
   "metadata": {},
   "outputs": [],
   "source": [
    "# generate inital centroids\n",
    "import random\n",
    "\n",
    "initial_centroids = []\n",
    "\n",
    "# for i in range(2):\n",
    "#     randnb = random.randrange(len(transformed_data))\n",
    "#     while randnb in initial_centroids:\n",
    "#         randnb = randrange(len(transformed_data))\n",
    "#     initial_centroids.append(randnb)\n",
    "#     print(randnb)\n",
    "\n",
    "randnb = random.randrange(36)\n",
    "initial_centroids.append(randnb)\n",
    "\n",
    "randnb = random.randrange(36, len(transformed_data))\n",
    "initial_centroids.append(randnb)"
   ]
  },
  {
   "cell_type": "code",
   "execution_count": 12,
   "metadata": {},
   "outputs": [],
   "source": [
    "K_means_model = K_means()\n",
    "K_means_model.fit(transformed_data, initial_centroids)"
   ]
  },
  {
   "cell_type": "code",
   "execution_count": 13,
   "metadata": {},
   "outputs": [],
   "source": [
    "class1 = []\n",
    "class2 = []\n",
    "pred = []\n",
    "\n",
    "for datapoint in transformed_data:\n",
    "    if K_means_model.predict(datapoint) == 0:\n",
    "        class1.append(datapoint)\n",
    "        pred.append(0)\n",
    "    else:\n",
    "        class2.append(datapoint)\n",
    "        pred.append(1)"
   ]
  },
  {
   "cell_type": "code",
   "execution_count": 14,
   "metadata": {},
   "outputs": [],
   "source": [
    "#put all the mango data to total_train\n",
    "#you need to cluster total_train\n",
    "#Finally,your kmeans result should show which mango point is red mango or green mango\n",
    "\n",
    "#1-36 is green data \n",
    "#37-72 is red data\n",
    "#don't alter this order\n",
    "\n",
    "#total_train=train_green+train_red\n",
    "\n",
    "#this is your kmeans result!\n",
    "\n",
    "#you need to show me your kmeans result in 3D picture like the result in video !"
   ]
  },
  {
   "cell_type": "code",
   "execution_count": 15,
   "metadata": {},
   "outputs": [
    {
     "data": {
      "image/png": "[encoded data removed]",
      "text/plain": [
       "<Figure size 432x288 with 1 Axes>"
      ]
     },
     "metadata": {},
     "output_type": "display_data"
    }
   ],
   "source": [
    "rxx=[]\n",
    "ryy=[]\n",
    "rzz=[]\n",
    "for i in class1:\n",
    "    rxx.append(i[0])\n",
    "    ryy.append(i[1])\n",
    "    rzz.append(i[2])\n",
    "\n",
    "rxxx=[]\n",
    "ryyy=[]\n",
    "rzzz=[]\n",
    "for i in class2:\n",
    "    rxxx.append(i[0])\n",
    "    ryyy.append(i[1])\n",
    "    rzzz.append(i[2])\n",
    "\n",
    "from mpl_toolkits.mplot3d import Axes3D\n",
    "\n",
    "\n",
    "ax = plt.subplot(111, projection='3d') \n",
    "\n",
    "ax.scatter(rxx, ryy, rzz, c='g')\n",
    "ax.scatter(rxxx, ryyy, rzzz, c='r')\n",
    "\n",
    "ax.set_zlabel('Z')  \n",
    "ax.set_ylabel('Y')\n",
    "ax.set_xlabel('X')\n",
    "plt.show()\n",
    "\n",
    "#Here is the code which calculate the accuracy of your kmeans result"
   ]
  },
  {
   "cell_type": "code",
   "execution_count": 16,
   "metadata": {},
   "outputs": [],
   "source": [
    "#put all the mango data to total_train\n",
    "#you need to cluster total_train\n",
    "#Finally,your kmeans result should show which mango point is red mango or green mango\n",
    "\n",
    "#1-36 is green data \n",
    "#37-72 is red data\n",
    "#don't alter this order\n",
    "\n",
    "#total_train=train_green+train_red"
   ]
  },
  {
   "cell_type": "markdown",
   "metadata": {},
   "source": [
    "this is your kmeans result!"
   ]
  },
  {
   "cell_type": "markdown",
   "metadata": {},
   "source": [
    "Here is the code which calculate the accuracy of your kmeans result"
   ]
  },
  {
   "cell_type": "code",
   "execution_count": 17,
   "metadata": {},
   "outputs": [],
   "source": [
    "#Do your best to improve accuracy.but don't cheat by looking answer and make pred by yourself "
   ]
  },
  {
   "cell_type": "code",
   "execution_count": 18,
   "metadata": {},
   "outputs": [],
   "source": [
    "# total_train have 72 mango data\n",
    "#1~36 is green mango\n",
    "#37~72 is red mango\n",
    "#so the correct classification answer of  mango is  ans = [1,1,1,1,1,1,1,1,1,1,0,0,0,0,0,0,0,0,0,0]\n",
    "#1 is green\n",
    "#0 is red"
   ]
  },
  {
   "cell_type": "code",
   "execution_count": 19,
   "metadata": {},
   "outputs": [],
   "source": [
    "# At here ! you need to show me your kmeans result in  the list  ,pred=[]\n",
    "#for example,pred may be   pred=[0, 0, 0, 0, 1, 0, 1, 1, 0, 1, 0, 0, 0, 0, 0, 0, 0, 0, 0, 0]\n",
    "#in this case,the accuracy is 0.7  .  \n",
    "#6 error , 14 correct  ,  14/20= 0.7 "
   ]
  },
  {
   "cell_type": "code",
   "execution_count": null,
   "metadata": {},
   "outputs": [],
   "source": []
  },
  {
   "cell_type": "code",
   "execution_count": null,
   "metadata": {},
   "outputs": [],
   "source": []
  },
  {
   "cell_type": "code",
   "execution_count": null,
   "metadata": {},
   "outputs": [],
   "source": []
  },
  {
   "cell_type": "code",
   "execution_count": null,
   "metadata": {},
   "outputs": [],
   "source": []
  },
  {
   "cell_type": "code",
   "execution_count": null,
   "metadata": {},
   "outputs": [],
   "source": []
  },
  {
   "cell_type": "code",
   "execution_count": null,
   "metadata": {},
   "outputs": [],
   "source": []
  },
  {
   "cell_type": "code",
   "execution_count": 20,
   "metadata": {},
   "outputs": [],
   "source": [
    "#pred=[]"
   ]
  },
  {
   "cell_type": "code",
   "execution_count": 21,
   "metadata": {},
   "outputs": [],
   "source": [
    "pred=np.array(pred)"
   ]
  },
  {
   "cell_type": "code",
   "execution_count": 22,
   "metadata": {},
   "outputs": [],
   "source": [
    "correct=0\n",
    "error=0\n",
    "ans = np.array([1,1,1,1,1,1,1,1,1,1,1,1,1,1,1,1,1,1,1,1,1,1,1,1,1,1,1,1,1,1,1,1,1,1,1,1,0,0,0,0,0,0,0,0,0,0,0,0,0,0,0,0,0,0,0,0,0,0,0,0,0,0,0,0,0,0,0,0,0,0,0,0])\n",
    "for i in range(72):\n",
    "    if ans[i]==pred[i]:\n",
    "        correct+=1\n",
    "    if ans[i]!=pred[i]:\n",
    "        error+=1"
   ]
  },
  {
   "cell_type": "code",
   "execution_count": 23,
   "metadata": {},
   "outputs": [],
   "source": [
    "accuracy=correct/72"
   ]
  },
  {
   "cell_type": "raw",
   "metadata": {},
   "source": [
    "accuracy\n",
    "print(accuracy)\n",
    "print(initial_centroids)"
   ]
  },
  {
   "cell_type": "code",
   "execution_count": 24,
   "metadata": {
    "scrolled": true
   },
   "outputs": [
    {
     "name": "stderr",
     "output_type": "stream",
     "text": [
      "/usr/local/lib/python3.6/dist-packages/numpy/lib/function_base.py:1128: RuntimeWarning: Mean of empty slice.\n",
      "  avg = a.mean(axis)\n",
      "/usr/local/lib/python3.6/dist-packages/numpy/core/_methods.py:80: RuntimeWarning: invalid value encountered in double_scalars\n",
      "  ret = ret.dtype.type(ret / rcount)\n"
     ]
    },
    {
     "name": "stdout",
     "output_type": "stream",
     "text": [
      "dropping: 0\n",
      "dropping: 0.5\n",
      "dropping: 0.5416666666666666\n",
      "dropping: 0.5694444444444444\n",
      "dropping: 0.6388888888888888\n",
      "dropping: 0.6527777777777778\n",
      "dropping: 0.75\n",
      "dropping: 0.7916666666666666\n",
      "dropping: 0.8611111111111112\n",
      "dropping: 0.9166666666666666\n",
      "0.9444444444444444\n",
      "[[34, 7], [34, 8], [34, 10], [34, 11], [34, 19], [40, 32], [42, 19], [42, 20], [42, 27], [42, 35], [43, 24], [43, 26], [45, 20], [48, 7], [48, 11], [48, 19], [48, 20], [51, 4], [56, 0], [56, 18], [56, 20], [56, 27], [61, 23], [61, 25], [62, 7], [62, 8], [62, 10], [62, 14], [62, 19], [62, 20], [64, 5], [64, 24], [66, 24], [67, 0], [67, 20], [67, 27], [68, 24], [70, 1], [70, 11], [70, 16], [70, 24], [70, 26], [70, 29], [70, 30], [70, 33], [71, 18], [71, 19]]\n"
     ]
    }
   ],
   "source": [
    "# automate training, run all possible combinations of starting centroids\n",
    "MAX_ACCURACY = 0\n",
    "max_yieldings = []\n",
    "init_centroids = [ [a, b] for a in range(len(transformed_data)) for b in range(len(transformed_data))]\n",
    "\n",
    "for initial_centroids in init_centroids:\n",
    "    # generate inital centroids\n",
    "#     import random\n",
    "\n",
    "#     initial_centroids = []\n",
    "    \n",
    "\n",
    "#     randnb = random.randrange(len(transformed_data))\n",
    "#     initial_centroids.append(randnb)\n",
    "\n",
    "#     prev_randnb = randnb\n",
    "#     while randnb == prev_randnb:\n",
    "#         randnb = random.randrange(len(transformed_data))\n",
    "#     initial_centroids.append(randnb)\n",
    "    \n",
    "    K_means_model = K_means()\n",
    "    K_means_model.fit(transformed_data, initial_centroids)\n",
    "    class1 = []\n",
    "    class2 = []\n",
    "    pred = []\n",
    "\n",
    "    for datapoint in transformed_data:\n",
    "        if K_means_model.predict(datapoint) == 0:\n",
    "            class1.append(datapoint)\n",
    "            pred.append(0)\n",
    "        else:\n",
    "            class2.append(datapoint)\n",
    "            pred.append(1)\n",
    "            \n",
    "    pred=np.array(pred)\n",
    "    del K_means_model\n",
    "\n",
    "    correct=0\n",
    "    error=0\n",
    "    ans = np.array([1,1,1,1,1,1,1,1,1,1,1,1,1,1,1,1,1,1,1,1,1,1,1,1,1,1,1,1,1,1,1,1,1,1,1,1,0,0,0,0,0,0,0,0,0,0,0,0,0,0,0,0,0,0,0,0,0,0,0,0,0,0,0,0,0,0,0,0,0,0,0,0])\n",
    "    for i in range(72):\n",
    "        if ans[i]==pred[i]:\n",
    "            correct+=1\n",
    "        if ans[i]!=pred[i]:\n",
    "            error+=1\n",
    "    accuracy=correct/72\n",
    "    \n",
    "#     if accuracy >= 0.9:\n",
    "#         print(\"Accuracy: \" + str(accuracy))\n",
    "#         print(initial_centroids)\n",
    "#         print(\"\")\n",
    "    \n",
    "    if accuracy == MAX_ACCURACY:\n",
    "        max_yieldings.append(initial_centroids)\n",
    "    elif accuracy > MAX_ACCURACY:\n",
    "        MAX_ACCURACY = accuracy\n",
    "        max_yieldings.clear()\n",
    "        max_yieldings.append(initial_centroids)\n",
    "\n",
    "print(MAX_ACCURACY)\n",
    "\n",
    "print(max_yieldings)"
   ]
  },
  {
   "cell_type": "raw",
   "metadata": {},
   "source": [
    "# list of max_accuracy starting points 😈\n",
    "\n",
    "accuracy: 0.9444 # highest achievable accuracy\n",
    "( most inital centroids are chosen from mangos of different color )\n",
    "[34, 7]\n",
    "[34, 8]\n",
    "[34, 10]\n",
    "[34, 11]\n",
    "[34, 19]\n",
    "[40, 32]\n",
    "[42, 19]\n",
    "[42, 20]\n",
    "[42, 27]\n",
    "[42, 35]\n",
    "[43, 24]\n",
    "[43, 26]\n",
    "[45, 20]\n",
    "[48, 7]\n",
    "[48, 11]\n",
    "[48, 19]\n",
    "[48, 20]\n",
    "[51, 4]\n",
    "[56, 0]\n",
    "[56, 18]\n",
    "[56, 20]\n",
    "[56, 27]\n",
    "[61, 23]\n",
    "[61, 25]\n",
    "[62, 7]\n",
    "[62, 8]\n",
    "[62, 10]\n",
    "[62, 14]\n",
    "[62, 19]\n",
    "[62, 20]\n",
    "[64, 5]\n",
    "[64, 24]\n",
    "[66, 24]\n",
    "[67, 0]\n",
    "[67, 20]\n",
    "[67, 27]\n",
    "[68, 24]\n",
    "[70, 1]\n",
    "[70, 11]\n",
    "[70, 16]\n",
    "[70, 24]\n",
    "[70, 26]\n",
    "[70, 29]\n",
    "[70, 30]\n",
    "[70, 33]\n",
    "[71, 18]\n",
    "[71, 19]"
   ]
  },
  {
   "cell_type": "markdown",
   "metadata": {},
   "source": [
    "submit your pred=[......] to kaggle and look your rank"
   ]
  },
  {
   "cell_type": "code",
   "execution_count": null,
   "metadata": {},
   "outputs": [],
   "source": []
  },
  {
   "cell_type": "code",
   "execution_count": null,
   "metadata": {},
   "outputs": [],
   "source": []
  },
  {
   "cell_type": "code",
   "execution_count": null,
   "metadata": {},
   "outputs": [],
   "source": []
  }
 ],
 "metadata": {
  "kernelspec": {
   "display_name": "Python 3",
   "language": "python",
   "name": "python3"
  },
  "language_info": {
   "codemirror_mode": {
    "name": "ipython",
    "version": 3
   },
   "file_extension": ".py",
   "mimetype": "text/x-python",
   "name": "python",
   "nbconvert_exporter": "python",
   "pygments_lexer": "ipython3",
   "version": "3.6.7"
  }
 },
 "nbformat": 4,
 "nbformat_minor": 2
}
