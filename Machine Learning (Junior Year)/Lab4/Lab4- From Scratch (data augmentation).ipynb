{
 "cells": [
  {
   "cell_type": "code",
   "execution_count": 1,
   "metadata": {},
   "outputs": [],
   "source": [
    "import torch\n",
    "import numpy as np\n",
    "import torch.nn as nn\n",
    "import torch.nn.functional as F\n",
    "import torchvision\n",
    "from torchvision import datasets, transforms\n",
    "import torch.optim as optim\n",
    "import matplotlib.pyplot as plt\n",
    "import torch.utils.data as data\n",
    "import os\n"
   ]
  },
  {
   "cell_type": "code",
   "execution_count": 2,
   "metadata": {},
   "outputs": [],
   "source": [
    "TRAIN_DATA_PATH = \"old_data/train/\"\n",
    "VAL_DATA_PATH = \"old_data/val/\"\n",
    "TEST_DATA_PATH =  \"old_data/test/\""
   ]
  },
  {
   "cell_type": "code",
   "execution_count": 3,
   "metadata": {},
   "outputs": [],
   "source": [
    "# data transform, you can add different transform methods and resize image to any size\n",
    "img_size = 200\n",
    "data_transform = transforms.Compose([\n",
    "                                    transforms.Resize((img_size,img_size)),\n",
    "                                      transforms.ToTensor(),\n",
    "                                      transforms.Normalize([0.485, 0.456, 0.406], [0.229, 0.224, 0.225])\n",
    "                                    ])\n",
    "\n",
    "# data augmentation\n",
    "train_transform = transforms.Compose([\n",
    "                                      transforms.Resize((img_size,img_size)),\n",
    "                                      transforms.RandomRotation(40),\n",
    "                                      transforms.RandomHorizontalFlip(),\n",
    "                                      transforms.RandomAffine(0, shear=0.2),\n",
    "                                      transforms.RandomAffine(0, translate=(0.2, 0.2)),\n",
    "                                      transforms.RandomAffine(0, scale=(1, 1.2)),\n",
    "                                      transforms.ToTensor(),\n",
    "                                      transforms.Normalize([0.485, 0.456, 0.406], [0.229, 0.224, 0.225])\n",
    "\n",
    "])\n",
    "\n",
    "# dataset = datasets.ImageFolder(root=TRAIN_DATA_PATH,transform=train_transform)\n",
    "train_dataset = datasets.ImageFolder(root=TRAIN_DATA_PATH, transform=train_transform)\n",
    "val_dataset = datasets.ImageFolder(root=VAL_DATA_PATH, transform=data_transform)\n",
    "\n",
    "# spilt data into train and validation and the total number of image is 4276. You can decide the number of images\n",
    "# you want to use to do training and validation.\n",
    "TOTAL_SIZE = len(os.listdir(TRAIN_DATA_PATH + \"/NORMAL\")) + len(\n",
    "    os.listdir(TRAIN_DATA_PATH + \"/INFECTED\")\n",
    ")\n",
    "\n",
    "# spilt your data into train and val\n",
    "ratio = 0.7\n",
    "train_len = round(TOTAL_SIZE * ratio)\n",
    "valid_len = round(TOTAL_SIZE * (1-ratio))\n",
    "\n",
    "# train_dataset, val_dataset = torch.utils.data.random_split(dataset, [train_len, valid_len])\n",
    "\n",
    "\n",
    "# you can use different batch size\n",
    "train_data_loader = data.DataLoader(train_dataset, batch_size=128, shuffle=True,  num_workers=4)\n",
    "val_data_loader = data.DataLoader(val_dataset, batch_size=500, shuffle=True,  num_workers=4)\n",
    "# print(train_dataset)\n",
    "# print(train_dataset.class_to_idx)"
   ]
  },
  {
   "cell_type": "code",
   "execution_count": 4,
   "metadata": {},
   "outputs": [],
   "source": [
    "# I have written the function for you this time, but it's strongly recommended that you \n",
    "# understand how to do training and validation\n",
    "\n",
    "def train(model, data_loader, optimizer, epoch, verbose=True):\n",
    "    model.train()\n",
    "    loss_avg = 0.0\n",
    "    for batch_idx, (data, target) in enumerate(data_loader):\n",
    "        data, target = data.to(device), target.to(device)\n",
    "        optimizer.zero_grad()\n",
    "        output = model(data)\n",
    "        \n",
    "        # loss function, you can use other loss function if you want\n",
    "        loss   = F.cross_entropy(output, target)\n",
    "        loss_avg = loss.item()\n",
    "        \n",
    "        # do back propagation\n",
    "        loss.backward()\n",
    "        optimizer.step()\n",
    "        verbose_step = len(data_loader) // 10\n",
    "        if batch_idx % verbose_step == 0 and verbose:\n",
    "            print('Train Epoch: {} [{}/{} ({:.0f}%)]\\tLoss: {:.6f}'.format(\n",
    "                epoch, batch_idx * len(data), len(data_loader.dataset),\n",
    "                100. * batch_idx / len(data_loader), loss.item()))\n",
    "    return loss_avg / len(data_loader)\n",
    "\n",
    "def valid(model, data_loader):\n",
    "    with torch.no_grad():\n",
    "        model.eval()\n",
    "        valid_loss = 0\n",
    "        correct = 0\n",
    "        for data, target in data_loader:\n",
    "            data, target = data.to(device), target.to(device)\n",
    "            output = model(data)\n",
    "            valid_loss += F.cross_entropy(output, target, reduction='sum').item() # sum up batch loss\n",
    "            pred = output.data.max(1, keepdim=True)[1] # get the index of the max log-probability\n",
    "            correct += pred.eq(target.data.view_as(pred)).cpu().sum().item() \n",
    "\n",
    "        valid_loss /= len(data_loader.dataset)\n",
    "        print('\\nValid set: Average loss: {:.4f}, Accuracy: {}/{} ({:.0f}%)\\n'.format(\n",
    "            valid_loss, correct, len(data_loader.dataset),\n",
    "            100. * correct / len(data_loader.dataset)))\n",
    "    return float(correct) / len(data_loader.dataset)"
   ]
  },
  {
   "cell_type": "code",
   "execution_count": 5,
   "metadata": {},
   "outputs": [],
   "source": [
    "############## Build the model here ##########\n",
    "class ConvNet(nn.Module):\n",
    "    def __init__(self,num_classes=2):\n",
    "    \n",
    "        super(ConvNet, self).__init__()\n",
    "        \n",
    "        self.layer1 = nn.Sequential(\n",
    "            nn.Conv2d(in_channels=3, out_channels=32, kernel_size=3, stride=1, padding=0),\n",
    "            #nn.BatchNorm2d(16),\n",
    "            nn.ReLU(),\n",
    "            nn.MaxPool2d(kernel_size=2))\n",
    "        \n",
    "        self.layer2 = nn.Sequential(\n",
    "            nn.Conv2d(32, 64, 3),\n",
    "            nn.ReLU(),\n",
    "            nn.MaxPool2d(2))\n",
    "        \n",
    "        self.layer3 = nn.Sequential(\n",
    "            nn.Conv2d(64, 128, 3),\n",
    "            nn.ReLU(),\n",
    "            nn.MaxPool2d(2))\n",
    "        \n",
    "        self.layer4 = nn.Sequential(\n",
    "            nn.Conv2d(128, 128, 3),\n",
    "            nn.ReLU(),\n",
    "            nn.MaxPool2d(2))\n",
    "        \n",
    "        self.drop = nn.Dropout(0.5)\n",
    "        \n",
    "        self.fc = nn.Sequential(\n",
    "            nn.Linear(10*10*128, 512),\n",
    "            nn.ReLU(),\n",
    "            nn.Linear(512, 2))\n",
    "        \n",
    "        self.sigmoid = nn.Sigmoid()\n",
    "        \n",
    "        \n",
    "\n",
    "    def forward(self, x):\n",
    "        \n",
    "        out = self.layer1(x)\n",
    "        out = self.layer2(out)\n",
    "        out = self.layer3(out)\n",
    "        out = self.layer4(out)\n",
    "        out = out.reshape(out.size(0), -1) # flatten\n",
    "        out = self.drop(out)\n",
    "        out = self.fc(out)\n",
    "        out = self.sigmoid(out) # can discard?\n",
    "        return out\n",
    "\n",
    "\n"
   ]
  },
  {
   "cell_type": "code",
   "execution_count": 6,
   "metadata": {},
   "outputs": [],
   "source": [
    "# using gpu if available\n",
    "device = torch.device(\"cuda\" if torch.cuda.is_available() else \"cpu\")\n",
    "\n",
    "\n",
    "if not torch.cuda.is_available():\n",
    "    print(\"NO GPU!!!!!\")"
   ]
  },
  {
   "cell_type": "code",
   "execution_count": null,
   "metadata": {},
   "outputs": [
    {
     "name": "stdout",
     "output_type": "stream",
     "text": [
      "Train Epoch: 0 [0/3701 (0%)]\tLoss: 0.693088\n",
      "Train Epoch: 0 [256/3701 (7%)]\tLoss: 0.648213\n",
      "Train Epoch: 0 [512/3701 (14%)]\tLoss: 0.645158\n",
      "Train Epoch: 0 [768/3701 (21%)]\tLoss: 0.620534\n",
      "Train Epoch: 0 [1024/3701 (28%)]\tLoss: 0.584444\n",
      "Train Epoch: 0 [1280/3701 (34%)]\tLoss: 0.566207\n",
      "Train Epoch: 0 [1536/3701 (41%)]\tLoss: 0.564071\n",
      "Train Epoch: 0 [1792/3701 (48%)]\tLoss: 0.508755\n",
      "Train Epoch: 0 [2048/3701 (55%)]\tLoss: 0.539855\n",
      "Train Epoch: 0 [2304/3701 (62%)]\tLoss: 0.586701\n",
      "Train Epoch: 0 [2560/3701 (69%)]\tLoss: 0.594514\n",
      "Train Epoch: 0 [2816/3701 (76%)]\tLoss: 0.524200\n",
      "Train Epoch: 0 [3072/3701 (83%)]\tLoss: 0.563262\n",
      "Train Epoch: 0 [3328/3701 (90%)]\tLoss: 0.555449\n"
     ]
    }
   ],
   "source": [
    "####################  implement your optimizer ###################################\n",
    "## yo can use any training methods if you want (ex:lr decay, weight decay.....)\n",
    "\n",
    "model = ConvNet() # instantiate model\n",
    "\n",
    "if torch.cuda.is_available():\n",
    "    model.cuda()\n",
    "\n",
    "lr = 1e-4\n",
    "# optimizer = optim.SGD(model.parameters(), lr=0.1)\n",
    "optimizer = optim.Adam(model.parameters(), lr=lr)\n",
    "#optim.lr_scheduler.CosineAnnealingLR(optimizer, T_max, eta_min=0, last_epoch=-1)\n",
    "\n",
    "# start training\n",
    "epochs = 100\n",
    "acc = 0.0\n",
    "for epoch in range(epochs):\n",
    "    model.train()\n",
    "    train(model, train_data_loader, optimizer, epoch)\n",
    "    accuracy = valid(model, val_data_loader)\n",
    "    if accuracy > acc:\n",
    "        acc = accuracy\n",
    "        print(\"-------------saving model--------------\")\n",
    "        # save the model\n",
    "        torch.save(model, \"model.pth\")"
   ]
  },
  {
   "cell_type": "code",
   "execution_count": null,
   "metadata": {},
   "outputs": [],
   "source": [
    "test_transform = transforms.Compose([transforms.Resize((img_size,img_size)),\n",
    "                                    transforms.ToTensor(),\n",
    "                                    transforms.Normalize([0.485, 0.456, 0.406], [0.229, 0.224, 0.225])\n",
    "                                    ])\n",
    "\n",
    "test_data = datasets.ImageFolder(root=TEST_DATA_PATH,transform=test_transform)\n",
    "test_data_loader  = data.DataLoader(test_data, batch_size=64, shuffle=False, num_workers=4) "
   ]
  },
  {
   "cell_type": "code",
   "execution_count": null,
   "metadata": {},
   "outputs": [],
   "source": [
    "device = torch.device(\"cuda\" if torch.cuda.is_available() else \"cpu\")\n",
    "\n",
    "# load the model so that you don't need to train the model again\n",
    "test_model = torch.load(\"model.pth\").to(device)"
   ]
  },
  {
   "cell_type": "code",
   "execution_count": null,
   "metadata": {},
   "outputs": [],
   "source": [
    "def test(model,data_loader):\n",
    "    with torch.no_grad():\n",
    "        model.eval()\n",
    "        valid_loss = 0\n",
    "        correct = 0\n",
    "        bs = test_data_loader.batch_size\n",
    "        result = []\n",
    "        for i, (data, target) in enumerate(test_data_loader):\n",
    "            data, target = data.to(device), target.to(device)\n",
    "            output = model(data)\n",
    "            pred = output.data.max(1, keepdim=True)[1] # get the index of the max log-probability\n",
    "            arr = pred.data.cpu().numpy()\n",
    "            for j in range(pred.size()[0]):\n",
    "                file_name = test_data.samples[i*bs+j][0].split('/')[-1]\n",
    "                result.append((file_name,pred[j].cpu().numpy()[0]))\n",
    "    return result"
   ]
  },
  {
   "cell_type": "code",
   "execution_count": null,
   "metadata": {},
   "outputs": [],
   "source": [
    "result = test(test_model,test_data_loader)"
   ]
  },
  {
   "cell_type": "markdown",
   "metadata": {},
   "source": [
    "# Write results to csv"
   ]
  },
  {
   "cell_type": "code",
   "execution_count": null,
   "metadata": {},
   "outputs": [],
   "source": [
    "with open ('ID_result.csv','w') as f:\n",
    "    f.write('ID,label\\n')\n",
    "    for data in result:\n",
    "        f.write(data[0]+','+str(data[1])+'\\n')"
   ]
  },
  {
   "cell_type": "code",
   "execution_count": null,
   "metadata": {},
   "outputs": [],
   "source": []
  }
 ],
 "metadata": {
  "kernelspec": {
   "display_name": "Python 3",
   "language": "python",
   "name": "python3"
  },
  "language_info": {
   "codemirror_mode": {
    "name": "ipython",
    "version": 3
   },
   "file_extension": ".py",
   "mimetype": "text/x-python",
   "name": "python",
   "nbconvert_exporter": "python",
   "pygments_lexer": "ipython3",
   "version": "3.6.7"
  }
 },
 "nbformat": 4,
 "nbformat_minor": 2
}
