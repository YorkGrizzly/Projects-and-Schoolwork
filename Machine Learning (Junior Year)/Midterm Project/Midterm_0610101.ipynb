{
 "cells": [
  {
   "cell_type": "code",
   "execution_count": 143,
   "metadata": {
    "scrolled": true
   },
   "outputs": [],
   "source": [
    "import os\n",
    "import pandas as pd\n",
    "import numpy as np\n",
    "import cv2\n",
    "import matplotlib.pyplot as plt\n",
    "%matplotlib inline\n",
    "from sklearn.model_selection import train_test_split\n",
    "from sklearn.decomposition import PCA\n",
    "from sklearn.preprocessing import StandardScaler, MinMaxScaler # normalization and standardization\n",
    "from xgboost import XGBClassifier\n",
    "\n",
    "from sklearn.svm import SVC, SVR, LinearSVC\n",
    "from sklearn.neighbors import KNeighborsClassifier\n",
    "from sklearn.linear_model import LogisticRegression\n",
    "from skimage.feature import local_binary_pattern, hog\n"
   ]
  },
  {
   "cell_type": "markdown",
   "metadata": {},
   "source": [
    "#### preprocess image:\n",
    "    gaussian blurring\n",
    "    adaptive thresholding\n",
    "    \n",
    "#### training model:\n",
    "SVM\\\n",
    "KNN\\\n",
    "LR\\\n",
    "Naive Bayes\\\n",
    "Random Forest\\\n",
    "AdaBoost\n",
    "\n",
    "Major Voting\n",
    "\n",
    "    "
   ]
  },
  {
   "cell_type": "markdown",
   "metadata": {},
   "source": [
    "# Functions"
   ]
  },
  {
   "cell_type": "code",
   "execution_count": 133,
   "metadata": {},
   "outputs": [],
   "source": [
    "# class LocalBinaryPatterns:\n",
    "# \tdef __init__(self, numPoints=24, radius=3):\n",
    "# \t\t# store the number of points and radius\n",
    "# \t\tself.numPoints = numPoints\n",
    "# \t\tself.radius = radius\n",
    "# \tdef describe(self, image, eps=1e-7):\n",
    "# \t\t# compute the Local Binary Pattern representation\n",
    "# \t\t# of the image, and then use the LBP representation\n",
    "# \t\t# to build the histogram of patterns\n",
    "# \t\tlbp = local_binary_pattern(image, self.numPoints,\n",
    "# \t\t\tself.radius, method=\"uniform\")\n",
    "# \t\t(hist, _) = np.histogram(lbp.ravel(),\n",
    "# \t\t\tbins=np.arange(0, self.numPoints + 3),\n",
    "# \t\t\trange=(0, self.numPoints + 2))\n",
    "# \t\t# normalize the histogram\n",
    "# \t\thist = hist.astype(\"float\")\n",
    "# \t\thist /= (hist.sum() + eps)\n",
    "# \t\t# return the histogram of Local Binary Patterns\n",
    "# \t\treturn hist"
   ]
  },
  {
   "cell_type": "code",
   "execution_count": 3,
   "metadata": {},
   "outputs": [],
   "source": [
    "def evaluate(predict, label_set):\n",
    "    if len(predict) != len(label_set):\n",
    "        raise ValueError(\"Unequal length!\")\n",
    "    else:\n",
    "        hit = 0\n",
    "        for i, prediction in enumerate(predict):\n",
    "            if prediction == label_set[i]:\n",
    "                hit += 1\n",
    "        print(\"Accuracy: %f %%\" %(100*hit / len(predict)))"
   ]
  },
  {
   "cell_type": "code",
   "execution_count": 137,
   "metadata": {},
   "outputs": [],
   "source": [
    "def display_img(img, title = \"image\"):    \n",
    "    plt.imshow(img), plt.title(title)\n",
    "    plt.xticks([]), plt.yticks([])\n",
    "    plt.show()"
   ]
  },
  {
   "cell_type": "code",
   "execution_count": 117,
   "metadata": {},
   "outputs": [],
   "source": [
    "def preprocessImg(img, new_width=80, new_height=60):\n",
    "    new_dim = (new_width, new_height)\n",
    "#     img = cv2.cvtColor(img, cv2.COLOR_BGR2RGB) # cv2 stores bgr, change to rgb (to display for human eye)\n",
    "    img = cv2.resize(img, new_dim, interpolation=cv2.INTER_LINEAR) # resize image\n",
    "    img = img[2:-2][:] # crop image on four sides\n",
    "#     img = cv2.cvtColor(img, cv2.COLOR_RGB2GRAY) # apply grey scale\n",
    "#     img = cv2.GaussianBlur(img, (5, 5), 0) # apply Gausian blur\n",
    "#     img = cv2.adaptiveThreshold(img, 255, cv2.ADAPTIVE_THRESH_MEAN_C, cv2.THRESH_BINARY,11,2) # apply adaptive thresholding\n",
    "#     img = cv2.adaptiveThreshold(img,255,cv2.ADAPTIVE_THRESH_GAUSSIAN_C, cv2.THRESH_BINARY,11,2)\n",
    "#     display_img(img)\n",
    "#     desc = LocalBinaryPatterns(24, 8) # perform LBP on image\n",
    "#     hist = desc.describe(img)\n",
    "    return img"
   ]
  },
  {
   "cell_type": "code",
   "execution_count": 141,
   "metadata": {},
   "outputs": [],
   "source": [
    "# plot distribution of data\n",
    "def plot_bar(y, loc='left', relative=True):\n",
    "    width = 0.35\n",
    "    if loc == 'left':\n",
    "        n = -0.5\n",
    "    elif loc == 'right':\n",
    "        n = 0.5\n",
    " \n",
    "    # calculate counts per type and sort, to ensure their order\n",
    "    unique, counts = np.unique(y, return_counts=True)\n",
    "    sorted_index = np.argsort(unique)\n",
    "    unique = unique[sorted_index]\n",
    " \n",
    "    if relative:\n",
    "        # plot as a percentage\n",
    "        counts = 100*counts[sorted_index]/len(y)\n",
    "        ylabel_text = '% count'\n",
    "    else:\n",
    "        # plot counts\n",
    "        counts = counts[sorted_index]\n",
    "        ylabel_text = 'count'\n",
    " \n",
    "    xtemp = np.arange(len(unique))\n",
    " \n",
    "    plt.bar(xtemp + n*width, counts, align='center', alpha=.7, width=width)\n",
    "    plt.xticks(xtemp, unique)\n",
    "    plt.xlabel('class')\n",
    "    plt.ylabel(ylabel_text)\n"
   ]
  },
  {
   "cell_type": "code",
   "execution_count": 77,
   "metadata": {},
   "outputs": [],
   "source": [
    "def convert_pred_labels(predict):  # convert characters to numbers\n",
    "    converted_predict = []\n",
    "    for i, char in enumerate(predict):\n",
    "        if char == 'A': converted_predict.append(0)\n",
    "        elif char == 'B': converted_predict.append(1)\n",
    "        elif char == 'C': converted_predict.append(2)\n",
    "        else:\n",
    "            raise ValueError(\"Unknown classification: %s\" %(char))\n",
    "    return converted_predict"
   ]
  },
  {
   "cell_type": "code",
   "execution_count": 78,
   "metadata": {},
   "outputs": [],
   "source": [
    "# read and vote on predictions of every model's prediction\n",
    "def majority_voting(*model_predictions):\n",
    "    model_predictions = np.asarray(model_predictions)\n",
    "    for i in range(len(model_predictions)):\n",
    "        model_predictions[i] = convert_pred_labels(model_predictions[i])\n",
    "    model_predictions = np.transpose(np.asarray(model_predictions, dtype=np.int))\n",
    "    voting_results = []\n",
    "    for data in model_predictions:\n",
    "        major_label = np.argmax(np.bincount(data))\n",
    "        if major_label == 0: voting_results.append('A')\n",
    "        elif major_label == 1: voting_results.append('B')\n",
    "        elif major_label == 2: voting_results.append('C')\n",
    "        else: raise ValueError(\"Unknown classification: \" + str(major_label))\n",
    "    return voting_results"
   ]
  },
  {
   "cell_type": "markdown",
   "metadata": {},
   "source": [
    "# Read Data"
   ]
  },
  {
   "cell_type": "code",
   "execution_count": 9,
   "metadata": {},
   "outputs": [],
   "source": [
    "train_files = []\n",
    "# read data labels\n",
    "train_files = pd.read_csv(\"./data/train.csv\", usecols=[0], delimiter=',', squeeze=True).tolist()\n",
    "train_label_load = pd.read_csv(\"./data/train.csv\", usecols=[1], delimiter=',', squeeze=True)\n",
    "train_label_load = train_label_load.tolist()\n",
    "# train_label_load = train_label_load[:2500].tolist()\n",
    "\n",
    "# take first 300\n",
    "# total of 5600 data in train folder"
   ]
  },
  {
   "cell_type": "code",
   "execution_count": 10,
   "metadata": {
    "scrolled": false
   },
   "outputs": [],
   "source": [
    "train_dataset = []\n",
    "test_dataset = []\n",
    "test_image_filenames = []\n",
    "\n",
    "# # read train image\n",
    "path = './data/Train/'\n",
    "files = os.listdir(path)\n",
    "\n",
    "# for file in train_files[:2500]: # get first 300 images\n",
    "for file in train_files:\n",
    "    p = path + file\n",
    "    img = cv2.imread(p)\n",
    "    train_dataset.append(preprocessImg(img))\n",
    "#     print(file)\n",
    "\n",
    "    \n",
    "# # read test image, store filename and data in two lists respectively\n",
    "path = './data/Test/'\n",
    "files = os.listdir(path)\n",
    "\n",
    "for file in files:\n",
    "    p = path + file\n",
    "    img = cv2.imread(p)\n",
    "    test_image_filenames.append(file)\n",
    "    test_dataset.append(preprocessImg(img))\n",
    "#     print(file)\n",
    "\n"
   ]
  },
  {
   "cell_type": "markdown",
   "metadata": {},
   "source": [
    "# Flatten Image to 1d Array"
   ]
  },
  {
   "cell_type": "code",
   "execution_count": 13,
   "metadata": {},
   "outputs": [],
   "source": [
    "for index, image in enumerate(train_dataset):\n",
    "    img_vector = image.flatten(order='C') \n",
    "    train_dataset[index] = img_vector\n",
    "    \n",
    "for index, image in enumerate(test_dataset):\n",
    "    img_vector = image.flatten(order='C')\n",
    "    test_dataset[index] = img_vector"
   ]
  },
  {
   "cell_type": "markdown",
   "metadata": {},
   "source": [
    "# Train Val Split"
   ]
  },
  {
   "cell_type": "code",
   "execution_count": 15,
   "metadata": {
    "scrolled": true
   },
   "outputs": [],
   "source": [
    "X_train, X_val, y_train, y_val = train_test_split(\n",
    "                                    train_dataset, train_label_load,\n",
    "                                    test_size = 0.2, shuffle=True)"
   ]
  },
  {
   "cell_type": "code",
   "execution_count": 16,
   "metadata": {
    "scrolled": true
   },
   "outputs": [
    {
     "data": {
      "image/png": "[encoded data removed]",
      "text/plain": [
       "<Figure size 432x288 with 1 Axes>"
      ]
     },
     "metadata": {
      "needs_background": "light"
     },
     "output_type": "display_data"
    }
   ],
   "source": [
    "# plot train val distribution\n",
    "plt.suptitle('relative amount of photos per type')\n",
    "plot_bar(y_train, loc='left')\n",
    "plot_bar(y_val, loc='right')\n",
    "plt.legend([\n",
    "    'train ({0} photos)'.format(len(y_train)),\n",
    "    'val ({0} photos)'.format(len(y_val))\n",
    "]);"
   ]
  },
  {
   "cell_type": "markdown",
   "metadata": {},
   "source": [
    "# Normalize Data"
   ]
  },
  {
   "cell_type": "code",
   "execution_count": 97,
   "metadata": {},
   "outputs": [],
   "source": [
    "# use StandardScalar later\n",
    "\n",
    "# normalize train data\n",
    "# normalizer = MinMaxScaler()\n",
    "normalizer = StandardScaler()\n",
    "X_train = normalizer.fit_transform(X_train)\n",
    "\n",
    "# normalize val and test data \"with train scaling\"\n",
    "X_val = normalizer.transform(X_val)\n",
    "test_dataset = normalizer.transform(test_dataset)"
   ]
  },
  {
   "cell_type": "markdown",
   "metadata": {},
   "source": [
    "# Reduce Dimensions (PCA)"
   ]
  },
  {
   "cell_type": "code",
   "execution_count": 18,
   "metadata": {},
   "outputs": [],
   "source": [
    "# do pca on training set\n",
    "pca = PCA(n_components=0.95)\n",
    "pca.fit(X_train)\n",
    "X_train_reduced = pca.transform(X_train)\n",
    "\n",
    "# do on val and test set\n",
    "X_val_reduced = pca.transform(X_val)\n",
    "test_data_reduced = pca.transform(test_dataset)"
   ]
  },
  {
   "cell_type": "markdown",
   "metadata": {},
   "source": [
    "# SVM"
   ]
  },
  {
   "cell_type": "code",
   "execution_count": 96,
   "metadata": {},
   "outputs": [
    {
     "name": "stdout",
     "output_type": "stream",
     "text": [
      "Accuracy: 54.642857 %\n"
     ]
    }
   ],
   "source": [
    "svm_classifier = SVC(kernel=\"linear\")\n",
    "svm_classifier.fit(X_train_reduced, y_train)\n",
    "\n",
    "svm_val_predict = svm_classifier.predict(X_val_reduced)\n",
    "evaluate(svm_val_predict, y_val)\n",
    "# predict test\n",
    "# test_predict = svm_classifier.predict(test_data_reduced).tolist()\n"
   ]
  },
  {
   "cell_type": "code",
   "execution_count": 89,
   "metadata": {},
   "outputs": [],
   "source": [
    "svm_test_predict = svm_classifier.predict(test_data_reduced).tolist()"
   ]
  },
  {
   "cell_type": "markdown",
   "metadata": {},
   "source": [
    "# K Nearest Neighbors"
   ]
  },
  {
   "cell_type": "code",
   "execution_count": 44,
   "metadata": {
    "scrolled": true
   },
   "outputs": [
    {
     "name": "stdout",
     "output_type": "stream",
     "text": [
      "Accuracy: 58.392857 %\n"
     ]
    }
   ],
   "source": [
    "knn_classifier = KNeighborsClassifier(n_neighbors=5).fit(X_train_reduced, y_train)\n",
    "knn_val_predict = knn_classifier.predict(X_val_reduced)\n",
    "evaluate(knn_val_predict, y_val)\n",
    "    # predict test\n",
    "# test_predict = knn_classifier.predict(test_data_reduced).tolist()"
   ]
  },
  {
   "cell_type": "code",
   "execution_count": 88,
   "metadata": {},
   "outputs": [],
   "source": [
    "knn_test_predict = knn_classifier.predict(test_data_reduced).tolist()"
   ]
  },
  {
   "cell_type": "markdown",
   "metadata": {},
   "source": [
    "# Logistic Regression"
   ]
  },
  {
   "cell_type": "code",
   "execution_count": 45,
   "metadata": {},
   "outputs": [
    {
     "name": "stdout",
     "output_type": "stream",
     "text": [
      "Accuracy: 56.160714 %\n"
     ]
    }
   ],
   "source": [
    "# if classifier == \"LR\":\n",
    "lr_classifier = LogisticRegression(max_iter=3000).fit(X_train_reduced, y_train)\n",
    "LR_val_predict = lr_classifier.predict(X_val_reduced)\n",
    "evaluate(LR_val_predict, y_val)\n",
    "    # predict test\n"
   ]
  },
  {
   "cell_type": "code",
   "execution_count": 87,
   "metadata": {},
   "outputs": [],
   "source": [
    "LR_test_predict = lr_classifier.predict(test_data_reduced).tolist()"
   ]
  },
  {
   "cell_type": "markdown",
   "metadata": {},
   "source": [
    "# XgBoost"
   ]
  },
  {
   "cell_type": "code",
   "execution_count": 161,
   "metadata": {},
   "outputs": [
    {
     "name": "stdout",
     "output_type": "stream",
     "text": [
      "Accuracy: 58.750000 %\n"
     ]
    }
   ],
   "source": [
    "xgb_classifier = XGBClassifier()\n",
    "xgb_classifier.fit(X_train_reduced, y_train)\n",
    "xgb_val_predict = xgb_classifier.predict(X_val_reduced)\n",
    "evaluate(xgb_val_predict, y_val)"
   ]
  },
  {
   "cell_type": "code",
   "execution_count": 162,
   "metadata": {},
   "outputs": [],
   "source": [
    "test_predict = xgb_classifier.predict(test_data_reduced)"
   ]
  },
  {
   "cell_type": "markdown",
   "metadata": {},
   "source": [
    "# Val Accuracy"
   ]
  },
  {
   "cell_type": "code",
   "execution_count": 53,
   "metadata": {},
   "outputs": [
    {
     "data": {
      "text/plain": [
       "array(['B', 'A', 'B', ..., 'C', 'B', 'B'], dtype='<U1')"
      ]
     },
     "execution_count": 53,
     "metadata": {},
     "output_type": "execute_result"
    }
   ],
   "source": [
    "svm_val_predict"
   ]
  },
  {
   "cell_type": "code",
   "execution_count": 54,
   "metadata": {},
   "outputs": [
    {
     "data": {
      "text/plain": [
       "array(['A', 'B', 'A', ..., 'C', 'C', 'A'], dtype='<U1')"
      ]
     },
     "execution_count": 54,
     "metadata": {},
     "output_type": "execute_result"
    }
   ],
   "source": [
    "knn_val_predict"
   ]
  },
  {
   "cell_type": "code",
   "execution_count": 58,
   "metadata": {},
   "outputs": [
    {
     "data": {
      "text/plain": [
       "array(['B', 'A', 'B', ..., 'C', 'B', 'B'], dtype='<U1')"
      ]
     },
     "execution_count": 58,
     "metadata": {},
     "output_type": "execute_result"
    }
   ],
   "source": [
    "LR_val_predict"
   ]
  },
  {
   "cell_type": "code",
   "execution_count": 158,
   "metadata": {
    "scrolled": false
   },
   "outputs": [
    {
     "name": "stdout",
     "output_type": "stream",
     "text": [
      "Accuracy: 60.267857 %\n"
     ]
    }
   ],
   "source": [
    "# majority voting\n",
    "test_predict_majority = majority_voting(svm_test_predict, knn_test_predict, LR_test_predict, xgb_test_predict)\n",
    "evaluate(majority_voting(svm_val_predict, knn_val_predict, LR_val_predict, xgb_val_predict), y_val)"
   ]
  },
  {
   "cell_type": "markdown",
   "metadata": {},
   "source": [
    "# Write to file"
   ]
  },
  {
   "cell_type": "code",
   "execution_count": 163,
   "metadata": {},
   "outputs": [],
   "source": [
    "test_predict = convert_pred_labels(test_predict) # convert labels for test"
   ]
  },
  {
   "cell_type": "code",
   "execution_count": 164,
   "metadata": {},
   "outputs": [],
   "source": [
    "df = pd.DataFrame(test_predict, columns=[\"label\"], index=test_image_filenames)\n",
    "df.to_csv('test-predict.csv', index=True, index_label=[\"ID\"])"
   ]
  },
  {
   "cell_type": "markdown",
   "metadata": {},
   "source": [
    "# Results"
   ]
  },
  {
   "cell_type": "markdown",
   "metadata": {},
   "source": [
    "<b>Preprocessing: resize</b><br>\n",
    "SVM, using 1000 400x300 train data ---> 0.52375<br>\n",
    "KNN, using 1000 400x300 train data ---> 0.56125<br>\n",
    "\n",
    "KNN, use all 40x30 train data ---> 0.57625<br>\n",
    "SVM, use all 40x30 train data ---> 0.55625<br>\n",
    "\n",
    "<b>crop image</b><br>\n",
    "LR, use all 80x60 ---> 0.56250<br>\n",
    "KNN, use all 80x60 ---> 0.57999<br>\n",
    "SVM, use all 80x60 ---> 0.54000<br>\n",
    "XGBoost, use all 80x60 (no pca) ---> 0.64125<br>\n",
    "Ensemble, use all 80x50 ---> 0.5785<br>"
   ]
  },
  {
   "cell_type": "code",
   "execution_count": null,
   "metadata": {},
   "outputs": [],
   "source": []
  }
 ],
 "metadata": {
  "kernelspec": {
   "display_name": "Python 3",
   "language": "python",
   "name": "python3"
  },
  "language_info": {
   "codemirror_mode": {
    "name": "ipython",
    "version": 3
   },
   "file_extension": ".py",
   "mimetype": "text/x-python",
   "name": "python",
   "nbconvert_exporter": "python",
   "pygments_lexer": "ipython3",
   "version": "3.6.7"
  }
 },
 "nbformat": 4,
 "nbformat_minor": 4
}
